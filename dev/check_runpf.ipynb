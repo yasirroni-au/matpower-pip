{
 "cells": [
  {
   "cell_type": "code",
   "execution_count": 1,
   "metadata": {},
   "outputs": [],
   "source": [
    "%load_ext autoreload\n",
    "%autoreload 2"
   ]
  },
  {
   "cell_type": "code",
   "execution_count": 2,
   "metadata": {},
   "outputs": [],
   "source": [
    "from matpower import start_instance"
   ]
  },
  {
   "cell_type": "code",
   "execution_count": null,
   "metadata": {},
   "outputs": [],
   "source": [
    "m = start_instance()"
   ]
  },
  {
   "cell_type": "code",
   "execution_count": 6,
   "metadata": {},
   "outputs": [
    {
     "data": {
      "text/plain": [
       "{'version': '2',\n",
       " 'baseMVA': 100.0,\n",
       " 'bus': array([[  1. ,   3. ,   0. ,   0. ,   0. ,   0. ,   1. ,   1. ,   0. ,\n",
       "         345. ,   1. ,   1.1,   0.9],\n",
       "        [  2. ,   2. ,   0. ,   0. ,   0. ,   0. ,   1. ,   1. ,   0. ,\n",
       "         345. ,   1. ,   1.1,   0.9],\n",
       "        [  3. ,   2. ,   0. ,   0. ,   0. ,   0. ,   1. ,   1. ,   0. ,\n",
       "         345. ,   1. ,   1.1,   0.9],\n",
       "        [  4. ,   1. ,   0. ,   0. ,   0. ,   0. ,   1. ,   1. ,   0. ,\n",
       "         345. ,   1. ,   1.1,   0.9],\n",
       "        [  5. ,   1. ,  90. ,  30. ,   0. ,   0. ,   1. ,   1. ,   0. ,\n",
       "         345. ,   1. ,   1.1,   0.9],\n",
       "        [  6. ,   1. ,   0. ,   0. ,   0. ,   0. ,   1. ,   1. ,   0. ,\n",
       "         345. ,   1. ,   1.1,   0.9],\n",
       "        [  7. ,   1. , 100. ,  35. ,   0. ,   0. ,   1. ,   1. ,   0. ,\n",
       "         345. ,   1. ,   1.1,   0.9],\n",
       "        [  8. ,   1. ,   0. ,   0. ,   0. ,   0. ,   1. ,   1. ,   0. ,\n",
       "         345. ,   1. ,   1.1,   0.9],\n",
       "        [  9. ,   1. , 125. ,  50. ,   0. ,   0. ,   1. ,   1. ,   0. ,\n",
       "         345. ,   1. ,   1.1,   0.9]]),\n",
       " 'gen': array([[   1.   ,   72.3  ,   27.03 ,  300.   , -300.   ,    1.04 ,\n",
       "          100.   ,    1.   ,  250.   ,   10.   ,    0.   ,    0.   ,\n",
       "            0.   ,    0.   ,    0.   ,    0.   ,    0.   ,    0.   ,\n",
       "            0.   ,    0.   ,    0.   ],\n",
       "        [   2.   ,  163.   ,    6.54 ,  300.   , -300.   ,    1.025,\n",
       "          100.   ,    1.   ,  300.   ,   10.   ,    0.   ,    0.   ,\n",
       "            0.   ,    0.   ,    0.   ,    0.   ,    0.   ,    0.   ,\n",
       "            0.   ,    0.   ,    0.   ],\n",
       "        [   3.   ,   85.   ,  -10.95 ,  300.   , -300.   ,    1.025,\n",
       "          100.   ,    1.   ,  270.   ,   10.   ,    0.   ,    0.   ,\n",
       "            0.   ,    0.   ,    0.   ,    0.   ,    0.   ,    0.   ,\n",
       "            0.   ,    0.   ,    0.   ]]),\n",
       " 'branch': array([[ 1.000e+00,  4.000e+00,  0.000e+00,  5.760e-02,  0.000e+00,\n",
       "          2.500e+02,  2.500e+02,  2.500e+02,  0.000e+00,  0.000e+00,\n",
       "          1.000e+00, -3.600e+02,  3.600e+02],\n",
       "        [ 4.000e+00,  5.000e+00,  1.700e-02,  9.200e-02,  1.580e-01,\n",
       "          2.500e+02,  2.500e+02,  2.500e+02,  0.000e+00,  0.000e+00,\n",
       "          1.000e+00, -3.600e+02,  3.600e+02],\n",
       "        [ 5.000e+00,  6.000e+00,  3.900e-02,  1.700e-01,  3.580e-01,\n",
       "          1.500e+02,  1.500e+02,  1.500e+02,  0.000e+00,  0.000e+00,\n",
       "          1.000e+00, -3.600e+02,  3.600e+02],\n",
       "        [ 3.000e+00,  6.000e+00,  0.000e+00,  5.860e-02,  0.000e+00,\n",
       "          3.000e+02,  3.000e+02,  3.000e+02,  0.000e+00,  0.000e+00,\n",
       "          1.000e+00, -3.600e+02,  3.600e+02],\n",
       "        [ 6.000e+00,  7.000e+00,  1.190e-02,  1.008e-01,  2.090e-01,\n",
       "          1.500e+02,  1.500e+02,  1.500e+02,  0.000e+00,  0.000e+00,\n",
       "          1.000e+00, -3.600e+02,  3.600e+02],\n",
       "        [ 7.000e+00,  8.000e+00,  8.500e-03,  7.200e-02,  1.490e-01,\n",
       "          2.500e+02,  2.500e+02,  2.500e+02,  0.000e+00,  0.000e+00,\n",
       "          1.000e+00, -3.600e+02,  3.600e+02],\n",
       "        [ 8.000e+00,  2.000e+00,  0.000e+00,  6.250e-02,  0.000e+00,\n",
       "          2.500e+02,  2.500e+02,  2.500e+02,  0.000e+00,  0.000e+00,\n",
       "          1.000e+00, -3.600e+02,  3.600e+02],\n",
       "        [ 8.000e+00,  9.000e+00,  3.200e-02,  1.610e-01,  3.060e-01,\n",
       "          2.500e+02,  2.500e+02,  2.500e+02,  0.000e+00,  0.000e+00,\n",
       "          1.000e+00, -3.600e+02,  3.600e+02],\n",
       "        [ 9.000e+00,  4.000e+00,  1.000e-02,  8.500e-02,  1.760e-01,\n",
       "          2.500e+02,  2.500e+02,  2.500e+02,  0.000e+00,  0.000e+00,\n",
       "          1.000e+00, -3.600e+02,  3.600e+02]]),\n",
       " 'gencost': array([[2.000e+00, 1.500e+03, 0.000e+00, 3.000e+00, 1.100e-01, 5.000e+00,\n",
       "         1.500e+02],\n",
       "        [2.000e+00, 2.000e+03, 0.000e+00, 3.000e+00, 8.500e-02, 1.200e+00,\n",
       "         6.000e+02],\n",
       "        [2.000e+00, 3.000e+03, 0.000e+00, 3.000e+00, 1.225e-01, 1.000e+00,\n",
       "         3.350e+02]])}"
      ]
     },
     "execution_count": 6,
     "metadata": {},
     "output_type": "execute_result"
    }
   ],
   "source": [
    "mpc = m.loadcase(\"case9\", verbose=False)\n",
    "mpc"
   ]
  },
  {
   "cell_type": "code",
   "execution_count": 36,
   "metadata": {},
   "outputs": [
    {
     "data": {
      "text/plain": [
       "Cell(['version', 'baseMVA', 'bus', 'gen', 'branch', 'gencost', 'order',\n",
       "       'success', 'om', 'x', 'mu', 'f', 'var', 'nle', 'nli', 'qdc', 'et',\n",
       "       'raw'])"
      ]
     },
     "execution_count": 36,
     "metadata": {},
     "output_type": "execute_result"
    }
   ],
   "source": [
    "m.push(\"_mpc\", mpc, verbose=False)\n",
    "m.eval(\"_r1 = runopf(_mpc);\", verbose=True)\n",
    "fieldnames_r1 = m.eval(\"fieldnames(_r1);\", verbose=False)\n",
    "fieldnames_r1.ravel()"
   ]
  },
  {
   "cell_type": "code",
   "execution_count": 32,
   "metadata": {},
   "outputs": [
    {
     "name": "stdout",
     "output_type": "stream",
     "text": [
      "om\n",
      "Octave evaluation error:\n",
      "error: save: error while writing '' to MAT file\n",
      "raw\n",
      "Octave evaluation error:\n",
      "error: save: error while writing '' to MAT file\n"
     ]
    }
   ],
   "source": [
    "for i in fieldnames_r1.ravel():\n",
    "    try:\n",
    "        val = m.eval(f\"_r1.{i};\", verbose=False)\n",
    "        # print(type(val))\n",
    "        # print(val)\n",
    "    except Exception as e:\n",
    "        print(i)\n",
    "        print(e)\n",
    "        pass"
   ]
  },
  {
   "cell_type": "code",
   "execution_count": 33,
   "metadata": {},
   "outputs": [
    {
     "name": "stdout",
     "output_type": "stream",
     "text": [
      "mp.math_model_opf_acps_legacy\n",
      "struct\n"
     ]
    }
   ],
   "source": [
    "for i in [\"om\", \"raw\"]:\n",
    "    var_type = m.eval(f\"class(_r1.{i});\", verbose=False)\n",
    "    print(var_type)"
   ]
  },
  {
   "cell_type": "code",
   "execution_count": 37,
   "metadata": {},
   "outputs": [
    {
     "name": "stdout",
     "output_type": "stream",
     "text": [
      "['aux_data' 'cost' 'element_classes' 'elements' 'lin' 'mpc' 'nlc' 'nle'\n",
      " 'nli' 'prob_type' 'qdc' 'set_types' 'soln' 'userdata' 'var']\n"
     ]
    }
   ],
   "source": [
    "for i in [\"om\"]:\n",
    "    fieldnames_om = m.eval(f\"fieldnames(_r1.{i});\", verbose=False)\n",
    "    print(fieldnames_om.ravel())"
   ]
  },
  {
   "cell_type": "code",
   "execution_count": 35,
   "metadata": {},
   "outputs": [
    {
     "name": "stdout",
     "output_type": "stream",
     "text": [
      "element_classes\n",
      "Octave evaluation error:\n",
      "error: save: error while writing '' to MAT file\n",
      "\u001b[?2004l\n",
      "\u001b[?2004l\n",
      "\u001b[?2004l\n",
      "\u001b[?2004l\n",
      "\u001b[?2004l\n",
      "\u001b[?2004l\n",
      "elements\n",
      "'NoneType' object is not iterable\n",
      "\u001b[?2004l\n",
      "\u001b[?2004l\n",
      "nle\n",
      "Octave evaluation error:\n",
      "error: save: error while writing '' to MAT file\n",
      "nli\n",
      "Octave evaluation error:\n",
      "error: save: error while writing '' to MAT file\n"
     ]
    }
   ],
   "source": [
    "for i in fieldnames_om.ravel():\n",
    "    try:\n",
    "        val = m.eval(f\"_r1.om.{i};\", verbose=False)\n",
    "        # print(type(val))\n",
    "        # print(val)\n",
    "    except Exception as e:\n",
    "        print(i)\n",
    "        print(e)\n",
    "        pass"
   ]
  },
  {
   "cell_type": "code",
   "execution_count": null,
   "metadata": {},
   "outputs": [],
   "source": []
  }
 ],
 "metadata": {
  "kernelspec": {
   "display_name": "env",
   "language": "python",
   "name": "python3"
  },
  "language_info": {
   "codemirror_mode": {
    "name": "ipython",
    "version": 3
   },
   "file_extension": ".py",
   "mimetype": "text/x-python",
   "name": "python",
   "nbconvert_exporter": "python",
   "pygments_lexer": "ipython3",
   "version": "3.12.3"
  }
 },
 "nbformat": 4,
 "nbformat_minor": 2
}
