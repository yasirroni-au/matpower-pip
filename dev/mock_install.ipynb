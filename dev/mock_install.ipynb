{
 "cells": [
  {
   "cell_type": "code",
   "execution_count": 1,
   "metadata": {},
   "outputs": [],
   "source": [
    "import pytest\n",
    "from oct2py import Oct2Py, Oct2PyError\n",
    "\n",
    "import matpower\n",
    "from matpower import PATH_MATPOWER"
   ]
  },
  {
   "cell_type": "code",
   "execution_count": 2,
   "metadata": {},
   "outputs": [],
   "source": [
    "path_matpower = PATH_MATPOWER\n",
    "verbose = 0"
   ]
  },
  {
   "cell_type": "code",
   "execution_count": 3,
   "metadata": {},
   "outputs": [],
   "source": [
    "def check_path_matpower_in_path(m):\n",
    "    MATPOWER_IN_PATH = False\n",
    "    for i in m.path().split(\";\"):\n",
    "        if matpower.path_matpower in i:\n",
    "            MATPOWER_IN_PATH = True\n",
    "            break\n",
    "    return MATPOWER_IN_PATH"
   ]
  },
  {
   "cell_type": "code",
   "execution_count": 4,
   "metadata": {},
   "outputs": [],
   "source": [
    "m = Oct2Py()"
   ]
  },
  {
   "cell_type": "code",
   "execution_count": 5,
   "metadata": {},
   "outputs": [
    {
     "name": "stdout",
     "output_type": "stream",
     "text": [
      "warning: savepath: current path saved to ~/.octaverc\n",
      "warning: savepath: current path saved to ~/.octaverc\n"
     ]
    },
    {
     "data": {
      "text/plain": [
       "False"
      ]
     },
     "execution_count": 5,
     "metadata": {},
     "output_type": "execute_result"
    }
   ],
   "source": [
    "m.addpath(path_matpower)\n",
    "\n",
    "m.install_matpower(1, 1, verbose, 0)  # install, must be success\n",
    "with pytest.raises(Oct2PyError):\n",
    "    m.install_matpower(1, 1, verbose, 0)  # install, must be error\n",
    "m.install_matpower(0, 0, verbose, 1)  # uninstall\n",
    "\n",
    "m.rmpath(path_matpower)\n",
    "m.savepath()\n",
    "check_path_matpower_in_path(m)"
   ]
  },
  {
   "cell_type": "code",
   "execution_count": 6,
   "metadata": {},
   "outputs": [
    {
     "name": "stdout",
     "output_type": "stream",
     "text": [
      "warning: savepath: current path saved to ~/.octaverc\n",
      "True\n",
      "warning: savepath: current path saved to ~/.octaverc\n"
     ]
    },
    {
     "data": {
      "text/plain": [
       "False"
      ]
     },
     "execution_count": 6,
     "metadata": {},
     "output_type": "execute_result"
    }
   ],
   "source": [
    "# try new install after bug fix on matpower 8\n",
    "m.addpath(path_matpower)\n",
    "m.install_matpower(1, 1, verbose, 1)  # install, must be success\n",
    "print(check_path_matpower_in_path(m))\n",
    "m.install_matpower(0, 0, verbose, 1)  # uninstall\n",
    "m.rmpath(path_matpower)\n",
    "m.savepath()\n",
    "check_path_matpower_in_path(m)"
   ]
  },
  {
   "cell_type": "code",
   "execution_count": 7,
   "metadata": {},
   "outputs": [
    {
     "name": "stdout",
     "output_type": "stream",
     "text": [
      "warning: savepath: current path saved to ~/.octaverc\n",
      "warning: savepath: current path saved to ~/.octaverc\n",
      "True\n"
     ]
    }
   ],
   "source": [
    "m = Oct2Py()\n",
    "m.addpath(matpower.path_matpower)\n",
    "m.install_matpower(1, 1, 0, 1)  # mock install matpower outside start_instance()\n",
    "m.savepath()\n",
    "MATPOWER_IN_PATH = check_path_matpower_in_path(m)\n",
    "print(MATPOWER_IN_PATH)\n",
    "m.exit()"
   ]
  },
  {
   "cell_type": "code",
   "execution_count": 9,
   "metadata": {},
   "outputs": [
    {
     "name": "stdout",
     "output_type": "stream",
     "text": [
      "True\n"
     ]
    }
   ],
   "source": [
    "# NOTE: this will cause error in old patch\n",
    "m = matpower.start_instance(engine=\"octave\")\n",
    "MATPOWER_IN_PATH = check_path_matpower_in_path(m)\n",
    "print(MATPOWER_IN_PATH)\n",
    "m.exit()"
   ]
  },
  {
   "cell_type": "code",
   "execution_count": 10,
   "metadata": {},
   "outputs": [
    {
     "name": "stdout",
     "output_type": "stream",
     "text": [
      "\n",
      "MATPOWER Version 8.0, 17-May-2024\n",
      "Power Flow -- AC-polar-power formulation\n",
      "\n",
      "Newton's method converged in 4 iterations.\n",
      "PF successful\n",
      "\n",
      "Converged in 0.16 seconds\n",
      "================================================================================\n",
      "|     System Summary                                                           |\n",
      "================================================================================\n",
      "\n",
      "How many?                How much?              P (MW)            Q (MVAr)\n",
      "---------------------    -------------------  -------------  -----------------\n",
      "Buses              9     Total Gen Capacity     820.0        -900.0 to 900.0\n",
      "Generators         3     On-line Capacity       820.0        -900.0 to 900.0\n",
      "Committed Gens     3     Generation (actual)    319.6              22.8\n",
      "Loads              3     Load                   315.0             115.0\n",
      "  Fixed            3       Fixed                315.0             115.0\n",
      "  Dispatchable     0       Dispatchable          -0.0 of -0.0      -0.0\n",
      "Shunts             0     Shunt (inj)             -0.0               0.0\n",
      "Branches           9     Losses (I^2 * Z)         4.64             48.38\n",
      "Transformers       0     Branch Charging (inj)     -              140.5\n",
      "Inter-ties         0     Total Inter-tie Flow     0.0               0.0\n",
      "Areas              1\n",
      "\n",
      "                          Minimum                      Maximum\n",
      "                 -------------------------  --------------------------------\n",
      "Voltage Magnitude   0.996 p.u. @ bus 9          1.040 p.u. @ bus 1\n",
      "Voltage Angle      -3.99 deg   @ bus 9          9.28 deg   @ bus 2\n",
      "P Losses (I^2*R)             -                  2.30 MW    @ line 8-9\n",
      "Q Losses (I^2*X)             -                 15.83 MVAr  @ line 8-2\n",
      "\n",
      "================================================================================\n",
      "|     Bus Data                                                                 |\n",
      "================================================================================\n",
      " Bus      Voltage          Generation             Load\n",
      "  #   Mag(pu) Ang(deg)   P (MW)   Q (MVAr)   P (MW)   Q (MVAr)\n",
      "----- ------- --------  --------  --------  --------  --------\n",
      "    1  1.040    0.000*    71.64     27.05       -         -\n",
      "    2  1.025    9.280    163.00      6.65       -         -\n",
      "    3  1.025    4.665     85.00    -10.86       -         -\n",
      "    4  1.026   -2.217       -         -         -         -\n",
      "    5  1.013   -3.687       -         -       90.00     30.00\n",
      "    6  1.032    1.967       -         -         -         -\n",
      "    7  1.016    0.728       -         -      100.00     35.00\n",
      "    8  1.026    3.720       -         -         -         -\n",
      "    9  0.996   -3.989       -         -      125.00     50.00\n",
      "                        --------  --------  --------  --------\n",
      "               Total:    319.64     22.84    315.00    115.00\n",
      "\n",
      "================================================================================\n",
      "|     Branch Data                                                              |\n",
      "================================================================================\n",
      "Brnch   From   To    From Bus Injection   To Bus Injection     Loss (I^2 * Z)\n",
      "  #     Bus    Bus    P (MW)   Q (MVAr)   P (MW)   Q (MVAr)   P (MW)   Q (MVAr)\n",
      "-----  -----  -----  --------  --------  --------  --------  --------  --------\n",
      "   1      1      4     71.64     27.05    -71.64    -23.92     0.000      3.12\n",
      "   2      4      5     30.70      1.03    -30.54    -16.54     0.166      0.90\n",
      "   3      5      6    -59.46    -13.46     60.82    -18.07     1.354      5.90\n",
      "   4      3      6     85.00    -10.86    -85.00     14.96     0.000      4.10\n",
      "   5      6      7     24.18      3.12    -24.10    -24.30     0.088      0.75\n",
      "   6      7      8    -75.90    -10.70     76.38     -0.80     0.475      4.03\n",
      "   7      8      2   -163.00      9.18    163.00      6.65     0.000     15.83\n",
      "   8      8      9     86.62     -8.38    -84.32    -11.31     2.300     11.57\n",
      "   9      9      4    -40.68    -38.69     40.94     22.89     0.258      2.19\n",
      "                                                             --------  --------\n",
      "                                                    Total:     4.641     48.38\n"
     ]
    }
   ],
   "source": [
    "m = matpower.start_instance(engine=\"octave\")\n",
    "m.runpf()\n",
    "m.exit()"
   ]
  },
  {
   "cell_type": "code",
   "execution_count": null,
   "metadata": {},
   "outputs": [],
   "source": []
  }
 ],
 "metadata": {
  "kernelspec": {
   "display_name": "env",
   "language": "python",
   "name": "python3"
  },
  "language_info": {
   "codemirror_mode": {
    "name": "ipython",
    "version": 3
   },
   "file_extension": ".py",
   "mimetype": "text/x-python",
   "name": "python",
   "nbconvert_exporter": "python",
   "pygments_lexer": "ipython3",
   "version": "3.12.4"
  }
 },
 "nbformat": 4,
 "nbformat_minor": 2
}
