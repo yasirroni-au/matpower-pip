{
 "cells": [
  {
   "cell_type": "code",
   "execution_count": 1,
   "metadata": {},
   "outputs": [],
   "source": [
    "import pytest\n",
    "from oct2py import Oct2Py, Oct2PyError\n",
    "\n",
    "import matpower\n",
    "from matpower import PATH_MATPOWER"
   ]
  },
  {
   "cell_type": "code",
   "execution_count": 2,
   "metadata": {},
   "outputs": [],
   "source": [
    "path_matpower = PATH_MATPOWER\n",
    "verbose = 0"
   ]
  },
  {
   "cell_type": "code",
   "execution_count": 3,
   "metadata": {},
   "outputs": [],
   "source": [
    "def check_path_matpower_in_path(m):\n",
    "    MATPOWER_IN_PATH = False\n",
    "    for i in m.path().split(\";\"):\n",
    "        if matpower.path_matpower in i:\n",
    "            MATPOWER_IN_PATH = True\n",
    "            break\n",
    "    return MATPOWER_IN_PATH"
   ]
  },
  {
   "cell_type": "code",
   "execution_count": 4,
   "metadata": {},
   "outputs": [],
   "source": [
    "m = Oct2Py()"
   ]
  },
  {
   "cell_type": "code",
   "execution_count": 5,
   "metadata": {},
   "outputs": [
    {
     "name": "stdout",
     "output_type": "stream",
     "text": [
      "warning: savepath: current path saved to ~/.octaverc\n",
      "warning: savepath: current path saved to ~/.octaverc\n"
     ]
    },
    {
     "data": {
      "text/plain": [
       "False"
      ]
     },
     "execution_count": 5,
     "metadata": {},
     "output_type": "execute_result"
    }
   ],
   "source": [
    "m.addpath(path_matpower)\n",
    "\n",
    "m.install_matpower(1, 1, verbose, 0)  # install, must be success\n",
    "with pytest.raises(Oct2PyError):\n",
    "    m.install_matpower(1, 1, verbose, 0)  # install, must be error\n",
    "m.install_matpower(0, 0, verbose, 1)  # uninstall\n",
    "\n",
    "m.rmpath(path_matpower)\n",
    "m.savepath()\n",
    "check_path_matpower_in_path(m)"
   ]
  },
  {
   "cell_type": "code",
   "execution_count": 6,
   "metadata": {},
   "outputs": [
    {
     "name": "stdout",
     "output_type": "stream",
     "text": [
      "warning: savepath: current path saved to ~/.octaverc\n",
      "True\n",
      "warning: savepath: current path saved to ~/.octaverc\n"
     ]
    },
    {
     "data": {
      "text/plain": [
       "False"
      ]
     },
     "execution_count": 6,
     "metadata": {},
     "output_type": "execute_result"
    }
   ],
   "source": [
    "# try new install after bug fix on matpower 8\n",
    "m.addpath(path_matpower)\n",
    "m.install_matpower(1, 1, verbose, 1)  # install, must be success\n",
    "print(check_path_matpower_in_path(m))\n",
    "m.install_matpower(0, 0, verbose, 1)  # uninstall\n",
    "m.rmpath(path_matpower)\n",
    "m.savepath()\n",
    "check_path_matpower_in_path(m)"
   ]
  },
  {
   "cell_type": "code",
   "execution_count": 7,
   "metadata": {},
   "outputs": [
    {
     "name": "stdout",
     "output_type": "stream",
     "text": [
      "warning: savepath: current path saved to ~/.octaverc\n",
      "warning: savepath: current path saved to ~/.octaverc\n",
      "True\n"
     ]
    }
   ],
   "source": [
    "m = Oct2Py()\n",
    "m.addpath(matpower.path_matpower)\n",
    "m.install_matpower(1, 1, 0, 1)  # mock install matpower outside start_instance()\n",
    "m.savepath()\n",
    "MATPOWER_IN_PATH = check_path_matpower_in_path(m)\n",
    "print(MATPOWER_IN_PATH)\n",
    "m.exit()"
   ]
  },
  {
   "cell_type": "code",
   "execution_count": 12,
   "metadata": {},
   "outputs": [],
   "source": [
    "with pytest.raises((Oct2PyError, TypeError)):\n",
    "    m = matpower.start_instance(engine=\"octave\")\n",
    "    MATPOWER_IN_PATH = check_path_matpower_in_path(m)\n",
    "    print(MATPOWER_IN_PATH)\n",
    "    m.exit()"
   ]
  },
  {
   "cell_type": "code",
   "execution_count": null,
   "metadata": {},
   "outputs": [],
   "source": []
  }
 ],
 "metadata": {
  "kernelspec": {
   "display_name": "env",
   "language": "python",
   "name": "python3"
  },
  "language_info": {
   "codemirror_mode": {
    "name": "ipython",
    "version": 3
   },
   "file_extension": ".py",
   "mimetype": "text/x-python",
   "name": "python",
   "nbconvert_exporter": "python",
   "pygments_lexer": "ipython3",
   "version": "3.12.4"
  }
 },
 "nbformat": 4,
 "nbformat_minor": 2
}
