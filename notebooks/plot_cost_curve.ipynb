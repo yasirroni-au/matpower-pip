{
 "cells": [
  {
   "cell_type": "code",
   "execution_count": 1,
   "metadata": {},
   "outputs": [
    {
     "data": {
      "text/plain": [
       "'7.1.0.2.1.4'"
      ]
     },
     "execution_count": 1,
     "metadata": {},
     "output_type": "execute_result"
    }
   ],
   "source": [
    "import matpower\n",
    "matpower.__version__"
   ]
  },
  {
   "cell_type": "code",
   "execution_count": 2,
   "metadata": {},
   "outputs": [],
   "source": [
    "import os\n",
    "\n",
    "import matplotlib.pyplot as plt\n",
    "import numpy as np\n",
    "import pandas as pd\n",
    "\n",
    "from matpower import path_matpower\n",
    "from matpowercaseframes import CaseFrames"
   ]
  },
  {
   "cell_type": "code",
   "execution_count": 3,
   "metadata": {},
   "outputs": [
    {
     "data": {
      "text/html": [
       "<div>\n",
       "<style scoped>\n",
       "    .dataframe tbody tr th:only-of-type {\n",
       "        vertical-align: middle;\n",
       "    }\n",
       "\n",
       "    .dataframe tbody tr th {\n",
       "        vertical-align: top;\n",
       "    }\n",
       "\n",
       "    .dataframe thead th {\n",
       "        text-align: right;\n",
       "    }\n",
       "</style>\n",
       "<table border=\"1\" class=\"dataframe\">\n",
       "  <thead>\n",
       "    <tr style=\"text-align: right;\">\n",
       "      <th></th>\n",
       "      <th>MODEL</th>\n",
       "      <th>STARTUP</th>\n",
       "      <th>SHUTDOWN</th>\n",
       "      <th>NCOST</th>\n",
       "      <th>COST_2</th>\n",
       "      <th>COST_1</th>\n",
       "      <th>COST_0</th>\n",
       "    </tr>\n",
       "  </thead>\n",
       "  <tbody>\n",
       "    <tr>\n",
       "      <th>1</th>\n",
       "      <td>2</td>\n",
       "      <td>1500</td>\n",
       "      <td>0</td>\n",
       "      <td>3</td>\n",
       "      <td>0.1100</td>\n",
       "      <td>5.0</td>\n",
       "      <td>150</td>\n",
       "    </tr>\n",
       "    <tr>\n",
       "      <th>2</th>\n",
       "      <td>2</td>\n",
       "      <td>2000</td>\n",
       "      <td>0</td>\n",
       "      <td>3</td>\n",
       "      <td>0.0850</td>\n",
       "      <td>1.2</td>\n",
       "      <td>600</td>\n",
       "    </tr>\n",
       "    <tr>\n",
       "      <th>3</th>\n",
       "      <td>2</td>\n",
       "      <td>3000</td>\n",
       "      <td>0</td>\n",
       "      <td>3</td>\n",
       "      <td>0.1225</td>\n",
       "      <td>1.0</td>\n",
       "      <td>335</td>\n",
       "    </tr>\n",
       "  </tbody>\n",
       "</table>\n",
       "</div>"
      ],
      "text/plain": [
       "   MODEL  STARTUP  SHUTDOWN  NCOST  COST_2  COST_1  COST_0\n",
       "1      2     1500         0      3  0.1100     5.0     150\n",
       "2      2     2000         0      3  0.0850     1.2     600\n",
       "3      2     3000         0      3  0.1225     1.0     335"
      ]
     },
     "execution_count": 3,
     "metadata": {},
     "output_type": "execute_result"
    }
   ],
   "source": [
    "path = os.path.join(path_matpower, 'data/case9.m')\n",
    "cf = CaseFrames(path)\n",
    "cf.gencost"
   ]
  },
  {
   "cell_type": "code",
   "execution_count": 4,
   "metadata": {},
   "outputs": [
    {
     "data": {
      "text/html": [
       "<div>\n",
       "<style scoped>\n",
       "    .dataframe tbody tr th:only-of-type {\n",
       "        vertical-align: middle;\n",
       "    }\n",
       "\n",
       "    .dataframe tbody tr th {\n",
       "        vertical-align: top;\n",
       "    }\n",
       "\n",
       "    .dataframe thead th {\n",
       "        text-align: right;\n",
       "    }\n",
       "</style>\n",
       "<table border=\"1\" class=\"dataframe\">\n",
       "  <thead>\n",
       "    <tr style=\"text-align: right;\">\n",
       "      <th></th>\n",
       "      <th>PMIN</th>\n",
       "      <th>PMAX</th>\n",
       "    </tr>\n",
       "  </thead>\n",
       "  <tbody>\n",
       "    <tr>\n",
       "      <th>1</th>\n",
       "      <td>10</td>\n",
       "      <td>250</td>\n",
       "    </tr>\n",
       "    <tr>\n",
       "      <th>2</th>\n",
       "      <td>10</td>\n",
       "      <td>300</td>\n",
       "    </tr>\n",
       "    <tr>\n",
       "      <th>3</th>\n",
       "      <td>10</td>\n",
       "      <td>270</td>\n",
       "    </tr>\n",
       "  </tbody>\n",
       "</table>\n",
       "</div>"
      ],
      "text/plain": [
       "   PMIN  PMAX\n",
       "1    10   250\n",
       "2    10   300\n",
       "3    10   270"
      ]
     },
     "execution_count": 4,
     "metadata": {},
     "output_type": "execute_result"
    }
   ],
   "source": [
    "pmin_pmax = cf.gen.loc[:, ['PMIN', 'PMAX']]\n",
    "pmin_pmax"
   ]
  },
  {
   "cell_type": "code",
   "execution_count": 5,
   "metadata": {},
   "outputs": [
    {
     "data": {
      "image/png": "[encoded data removed]",
      "text/plain": [
       "<Figure size 432x288 with 1 Axes>"
      ]
     },
     "metadata": {
      "needs_background": "light"
     },
     "output_type": "display_data"
    }
   ],
   "source": [
    "# this logic of plot only support quadratic\n",
    "n_gen = len(cf.gen.index)\n",
    "x = [None] * n_gen\n",
    "y = [None] * n_gen\n",
    "for i in range(n_gen):\n",
    "    pmin, pmax = cf.gen['PMIN'].iloc[i], cf.gen['PMAX'].iloc[i]\n",
    "    coeff = cf.gencost[['COST_0', 'COST_1', 'COST_2']].iloc[i].values\n",
    "    x[i] = np.linspace(pmin, pmax, 100, endpoint=True)\n",
    "    y[i] = [np.polyval(coeff, x_) for x_ in x[i]]\n",
    "    plt.plot(x[i], y[i], label=f\"gen {i}\")\n",
    "    plt.legend(loc=\"best\")\n",
    "plt.axis([0, None, 0, None])\n",
    "plt.title(\"Fuel Cost Plot ($)\")\n",
    "plt.show()"
   ]
  },
  {
   "cell_type": "code",
   "execution_count": 6,
   "metadata": {},
   "outputs": [
    {
     "data": {
      "image/png": "[encoded data removed]",
      "text/plain": [
       "<Figure size 432x288 with 1 Axes>"
      ]
     },
     "metadata": {
      "needs_background": "light"
     },
     "output_type": "display_data"
    }
   ],
   "source": [
    "# this logic of plot only support quadratic\n",
    "n_gen = len(cf.gen.index)\n",
    "x = [None] * n_gen\n",
    "y = [None] * n_gen\n",
    "for i in range(n_gen):\n",
    "    pmin, pmax = cf.gen['PMIN'].iloc[i], 50\n",
    "    coeff = cf.gencost[['COST_0', 'COST_1', 'COST_2']].iloc[i].values\n",
    "    x[i] = np.linspace(pmin, pmax, 100, endpoint=True)\n",
    "    y[i] = [np.polyval(coeff, x_) for x_ in x[i]]\n",
    "    plt.plot(x[i], y[i], label=f\"gen {i}\")\n",
    "    plt.legend(loc=\"best\")\n",
    "plt.axis([0, None, 0, None])\n",
    "plt.title(\"Fuel Cost Plot Up To 50 MWh ($)\")\n",
    "plt.show()"
   ]
  },
  {
   "cell_type": "code",
   "execution_count": 7,
   "metadata": {},
   "outputs": [
    {
     "data": {
      "text/html": [
       "<div>\n",
       "<style scoped>\n",
       "    .dataframe tbody tr th:only-of-type {\n",
       "        vertical-align: middle;\n",
       "    }\n",
       "\n",
       "    .dataframe tbody tr th {\n",
       "        vertical-align: top;\n",
       "    }\n",
       "\n",
       "    .dataframe thead th {\n",
       "        text-align: right;\n",
       "    }\n",
       "</style>\n",
       "<table border=\"1\" class=\"dataframe\">\n",
       "  <thead>\n",
       "    <tr style=\"text-align: right;\">\n",
       "      <th></th>\n",
       "      <th>A</th>\n",
       "      <th>B</th>\n",
       "      <th>C</th>\n",
       "    </tr>\n",
       "  </thead>\n",
       "  <tbody>\n",
       "    <tr>\n",
       "      <th>1</th>\n",
       "      <td>11.00</td>\n",
       "      <td>50.0</td>\n",
       "      <td>150</td>\n",
       "    </tr>\n",
       "    <tr>\n",
       "      <th>2</th>\n",
       "      <td>8.50</td>\n",
       "      <td>12.0</td>\n",
       "      <td>600</td>\n",
       "    </tr>\n",
       "    <tr>\n",
       "      <th>3</th>\n",
       "      <td>12.25</td>\n",
       "      <td>10.0</td>\n",
       "      <td>335</td>\n",
       "    </tr>\n",
       "  </tbody>\n",
       "</table>\n",
       "</div>"
      ],
      "text/plain": [
       "       A     B    C\n",
       "1  11.00  50.0  150\n",
       "2   8.50  12.0  600\n",
       "3  12.25  10.0  335"
      ]
     },
     "execution_count": 7,
     "metadata": {},
     "output_type": "execute_result"
    }
   ],
   "source": [
    "df_components_pmin = cf.gencost[['COST_2', 'COST_1', 'COST_0']].copy()\n",
    "df_components_pmin.columns = ['A', 'B', 'C']\n",
    "df_components_pmin.loc[:, 'A'] = df_components_pmin['A'].values * cf.gen['PMIN'].values * cf.gen['PMIN'].values\n",
    "df_components_pmin.loc[:, 'B'] = df_components_pmin['B'].values * cf.gen['PMIN'].values\n",
    "df_components_pmin"
   ]
  },
  {
   "cell_type": "code",
   "execution_count": 8,
   "metadata": {},
   "outputs": [
    {
     "data": {
      "text/html": [
       "<div>\n",
       "<style scoped>\n",
       "    .dataframe tbody tr th:only-of-type {\n",
       "        vertical-align: middle;\n",
       "    }\n",
       "\n",
       "    .dataframe tbody tr th {\n",
       "        vertical-align: top;\n",
       "    }\n",
       "\n",
       "    .dataframe thead th {\n",
       "        text-align: right;\n",
       "    }\n",
       "</style>\n",
       "<table border=\"1\" class=\"dataframe\">\n",
       "  <thead>\n",
       "    <tr style=\"text-align: right;\">\n",
       "      <th></th>\n",
       "      <th>A</th>\n",
       "      <th>B</th>\n",
       "      <th>C</th>\n",
       "    </tr>\n",
       "  </thead>\n",
       "  <tbody>\n",
       "    <tr>\n",
       "      <th>1</th>\n",
       "      <td>6875.00</td>\n",
       "      <td>1250.0</td>\n",
       "      <td>150</td>\n",
       "    </tr>\n",
       "    <tr>\n",
       "      <th>2</th>\n",
       "      <td>7650.00</td>\n",
       "      <td>360.0</td>\n",
       "      <td>600</td>\n",
       "    </tr>\n",
       "    <tr>\n",
       "      <th>3</th>\n",
       "      <td>8930.25</td>\n",
       "      <td>270.0</td>\n",
       "      <td>335</td>\n",
       "    </tr>\n",
       "  </tbody>\n",
       "</table>\n",
       "</div>"
      ],
      "text/plain": [
       "         A       B    C\n",
       "1  6875.00  1250.0  150\n",
       "2  7650.00   360.0  600\n",
       "3  8930.25   270.0  335"
      ]
     },
     "execution_count": 8,
     "metadata": {},
     "output_type": "execute_result"
    }
   ],
   "source": [
    "df_components_pmax = cf.gencost[['COST_2', 'COST_1', 'COST_0']].copy()\n",
    "df_components_pmax.columns = ['A', 'B', 'C']\n",
    "df_components_pmax.loc[:, 'A'] = df_components_pmax['A'].values * cf.gen['PMAX'].values * cf.gen['PMAX'].values\n",
    "df_components_pmax.loc[:, 'B'] = df_components_pmax['B'].values * cf.gen['PMAX'].values\n",
    "df_components_pmax"
   ]
  },
  {
   "cell_type": "code",
   "execution_count": null,
   "metadata": {},
   "outputs": [],
   "source": []
  }
 ],
 "metadata": {
  "kernelspec": {
   "display_name": "Python 3.7.4 64-bit",
   "language": "python",
   "name": "python3"
  },
  "language_info": {
   "codemirror_mode": {
    "name": "ipython",
    "version": 3
   },
   "file_extension": ".py",
   "mimetype": "text/x-python",
   "name": "python",
   "nbconvert_exporter": "python",
   "pygments_lexer": "ipython3",
   "version": "3.7.4"
  },
  "orig_nbformat": 4,
  "vscode": {
   "interpreter": {
    "hash": "c539bf52739056728523ce4846b8571647250a403fa0a07ad5abaf30b2362796"
   }
  }
 },
 "nbformat": 4,
 "nbformat_minor": 2
}
