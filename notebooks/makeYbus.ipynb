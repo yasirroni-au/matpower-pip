{
 "cells": [
  {
   "cell_type": "markdown",
   "metadata": {},
   "source": [
    "# Installation"
   ]
  },
  {
   "cell_type": "code",
   "execution_count": null,
   "metadata": {},
   "outputs": [],
   "source": [
    "# install octave\n",
    "!sudo apt-get -qq update\n",
    "!sudo apt-get -qq install octave octave-signal liboctave-dev\n",
    "\n",
    "# install oct2py that compatible with colab\n",
    "import os\n",
    "\n",
    "from pkg_resources import get_distribution\n",
    "\n",
    "os.system(\n",
    "    f\"pip install -qq\"\n",
    "    f\" ipykernel=={get_distribution('ipykernel').version}\"\n",
    "    f\" ipython=={get_distribution('ipython').version}\"\n",
    "    f\" tornado=={get_distribution('tornado').version}\"\n",
    "    f\" oct2py\"\n",
    ")\n",
    "\n",
    "# install packages\n",
    "!pip install -qq matpower matpowercaseframes"
   ]
  },
  {
   "cell_type": "markdown",
   "metadata": {},
   "source": [
    "# Import matpower and starting octave engine"
   ]
  },
  {
   "cell_type": "code",
   "execution_count": null,
   "metadata": {},
   "outputs": [],
   "source": [
    "import numpy as np\n",
    "from matpower import start_instance\n",
    "\n",
    "np.set_printoptions(precision=3, suppress=True)"
   ]
  },
  {
   "cell_type": "code",
   "execution_count": null,
   "metadata": {},
   "outputs": [],
   "source": [
    "m = start_instance(engine=\"octave\")"
   ]
  },
  {
   "cell_type": "markdown",
   "metadata": {},
   "source": [
    "# Make Bus Admittance Matrix"
   ]
  },
  {
   "cell_type": "code",
   "execution_count": null,
   "metadata": {},
   "outputs": [],
   "source": [
    "mpc = m.loadcase(\"case4gs\")  # small example\n",
    "# mpc = m.loadcase('case18')  # example containing Ysh\n",
    "\n",
    "mpc = m.ext2int(mpc)  # convert to ordered bus and branch numbering"
   ]
  },
  {
   "cell_type": "code",
   "execution_count": null,
   "metadata": {},
   "outputs": [
    {
     "name": "stdout",
     "output_type": "stream",
     "text": [
      "[[ 8.985-44.836j -3.816+19.078j -5.17 +25.848j  0.    +0.j   ]\n",
      " [-3.816+19.078j  8.985-44.836j  0.    +0.j    -5.17 +25.848j]\n",
      " [-5.17 +25.848j  0.    +0.j     8.193-40.864j -3.024+15.119j]\n",
      " [ 0.    +0.j    -5.17 +25.848j -3.024+15.119j  8.193-40.864j]]\n"
     ]
    }
   ],
   "source": [
    "# make YBus using matpower\n",
    "Ybus = m.makeYbus(mpc).toarray()\n",
    "print(Ybus)"
   ]
  },
  {
   "cell_type": "code",
   "execution_count": null,
   "metadata": {},
   "outputs": [],
   "source": []
  }
 ],
 "metadata": {
  "language_info": {
   "name": "python"
  }
 },
 "nbformat": 4,
 "nbformat_minor": 0
}
