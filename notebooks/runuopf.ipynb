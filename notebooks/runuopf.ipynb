{
 "cells": [
  {
   "cell_type": "code",
   "execution_count": 1,
   "metadata": {},
   "outputs": [],
   "source": [
    "# install octave\n",
    "!sudo apt-get -qq update\n",
    "!sudo apt-get -qq install octave octave-signal liboctave-dev\n",
    "\n",
    "# install oct2py that compatible with colab\n",
    "import os\n",
    "\n",
    "from pkg_resources import get_distribution\n",
    "\n",
    "os.system(\n",
    "    f\"pip install -qq\"\n",
    "    f\" ipykernel=={get_distribution('ipykernel').version}\"\n",
    "    f\" ipython=={get_distribution('ipython').version}\"\n",
    "    f\" tornado=={get_distribution('tornado').version}\"\n",
    "    f\" oct2py\"\n",
    ")\n",
    "\n",
    "# install packages\n",
    "!pip install -qq matpower matpowercaseframes"
   ]
  },
  {
   "cell_type": "code",
   "execution_count": 2,
   "metadata": {},
   "outputs": [
    {
     "name": "stdout",
     "output_type": "stream",
     "text": [
      "oct2py version: 5.7.2\n",
      "matpower version: 8.0.0.2.2.2\n"
     ]
    }
   ],
   "source": [
    "import matpower\n",
    "import oct2py\n",
    "\n",
    "print(f\"oct2py version: {oct2py.__version__}\")\n",
    "print(f\"matpower version: {matpower.__version__}\")"
   ]
  },
  {
   "cell_type": "code",
   "execution_count": 3,
   "metadata": {},
   "outputs": [],
   "source": [
    "from matpower import start_instance\n",
    "from matpowercaseframes import CaseFrames"
   ]
  },
  {
   "cell_type": "code",
   "execution_count": 4,
   "metadata": {},
   "outputs": [],
   "source": [
    "m = start_instance()"
   ]
  },
  {
   "cell_type": "code",
   "execution_count": 22,
   "metadata": {},
   "outputs": [],
   "source": [
    "cf = CaseFrames(\"case9\", load_case_engine=m)\n",
    "cf.bus[[\"PD\", \"QD\"]] = 0.2 * cf.bus[[\"PD\", \"QD\"]]\n",
    "mpopt = m.mpoption(\"verbose\", 2)\n",
    "m.push(\"_mpopt\", mpopt)\n",
    "m.push(\"_mpc\", cf.to_mpc(), verbose=False)\n",
    "m.eval(\"_r1 = runuopf(_mpc, _mpopt);\", verbose=False)"
   ]
  },
  {
   "cell_type": "code",
   "execution_count": 6,
   "metadata": {},
   "outputs": [],
   "source": [
    "# pull all after cleansing unsupported data\n",
    "m.eval(\n",
    "    \"\"\"\n",
    "    _r1.raw = rmfield(_r1.raw, 'task');\n",
    "    _r1 = rmfield(_r1, 'om');\n",
    "    \"\"\"\n",
    ")\n",
    "mpc = m.pull(\"_r1\")"
   ]
  },
  {
   "cell_type": "code",
   "execution_count": 7,
   "metadata": {},
   "outputs": [
    {
     "data": {
      "text/html": [
       "<div>\n",
       "<style scoped>\n",
       "    .dataframe tbody tr th:only-of-type {\n",
       "        vertical-align: middle;\n",
       "    }\n",
       "\n",
       "    .dataframe tbody tr th {\n",
       "        vertical-align: top;\n",
       "    }\n",
       "\n",
       "    .dataframe thead th {\n",
       "        text-align: right;\n",
       "    }\n",
       "</style>\n",
       "<table border=\"1\" class=\"dataframe\">\n",
       "  <thead>\n",
       "    <tr style=\"text-align: right;\">\n",
       "      <th></th>\n",
       "      <th>GEN_BUS</th>\n",
       "      <th>PG</th>\n",
       "      <th>QG</th>\n",
       "      <th>QMAX</th>\n",
       "      <th>QMIN</th>\n",
       "      <th>VG</th>\n",
       "      <th>MBASE</th>\n",
       "      <th>GEN_STATUS</th>\n",
       "      <th>PMAX</th>\n",
       "      <th>PMIN</th>\n",
       "      <th>...</th>\n",
       "      <th>QC2MAX</th>\n",
       "      <th>RAMP_AGC</th>\n",
       "      <th>RAMP_10</th>\n",
       "      <th>RAMP_30</th>\n",
       "      <th>RAMP_Q</th>\n",
       "      <th>APF</th>\n",
       "      <th>MU_PMAX</th>\n",
       "      <th>MU_PMIN</th>\n",
       "      <th>MU_QMAX</th>\n",
       "      <th>MU_QMIN</th>\n",
       "    </tr>\n",
       "  </thead>\n",
       "  <tbody>\n",
       "    <tr>\n",
       "      <th>1</th>\n",
       "      <td>1.0</td>\n",
       "      <td>0.000000</td>\n",
       "      <td>0.000000</td>\n",
       "      <td>300.0</td>\n",
       "      <td>-300.0</td>\n",
       "      <td>1.058571</td>\n",
       "      <td>100.0</td>\n",
       "      <td>0.0</td>\n",
       "      <td>250.0</td>\n",
       "      <td>10.0</td>\n",
       "      <td>...</td>\n",
       "      <td>0.0</td>\n",
       "      <td>0.0</td>\n",
       "      <td>0.0</td>\n",
       "      <td>0.0</td>\n",
       "      <td>0.0</td>\n",
       "      <td>0.0</td>\n",
       "      <td>0.0</td>\n",
       "      <td>0.0</td>\n",
       "      <td>0.0</td>\n",
       "      <td>0.0</td>\n",
       "    </tr>\n",
       "    <tr>\n",
       "      <th>2</th>\n",
       "      <td>2.0</td>\n",
       "      <td>37.176981</td>\n",
       "      <td>-43.256980</td>\n",
       "      <td>300.0</td>\n",
       "      <td>-300.0</td>\n",
       "      <td>0.900079</td>\n",
       "      <td>100.0</td>\n",
       "      <td>1.0</td>\n",
       "      <td>300.0</td>\n",
       "      <td>10.0</td>\n",
       "      <td>...</td>\n",
       "      <td>0.0</td>\n",
       "      <td>0.0</td>\n",
       "      <td>0.0</td>\n",
       "      <td>0.0</td>\n",
       "      <td>0.0</td>\n",
       "      <td>0.0</td>\n",
       "      <td>0.0</td>\n",
       "      <td>0.0</td>\n",
       "      <td>0.0</td>\n",
       "      <td>0.0</td>\n",
       "    </tr>\n",
       "    <tr>\n",
       "      <th>3</th>\n",
       "      <td>3.0</td>\n",
       "      <td>26.620814</td>\n",
       "      <td>-46.898656</td>\n",
       "      <td>300.0</td>\n",
       "      <td>-300.0</td>\n",
       "      <td>0.900666</td>\n",
       "      <td>100.0</td>\n",
       "      <td>1.0</td>\n",
       "      <td>270.0</td>\n",
       "      <td>10.0</td>\n",
       "      <td>...</td>\n",
       "      <td>0.0</td>\n",
       "      <td>0.0</td>\n",
       "      <td>0.0</td>\n",
       "      <td>0.0</td>\n",
       "      <td>0.0</td>\n",
       "      <td>0.0</td>\n",
       "      <td>0.0</td>\n",
       "      <td>0.0</td>\n",
       "      <td>0.0</td>\n",
       "      <td>0.0</td>\n",
       "    </tr>\n",
       "  </tbody>\n",
       "</table>\n",
       "<p>3 rows × 25 columns</p>\n",
       "</div>"
      ],
      "text/plain": [
       "   GEN_BUS         PG         QG   QMAX   QMIN        VG  MBASE  GEN_STATUS  \\\n",
       "1      1.0   0.000000   0.000000  300.0 -300.0  1.058571  100.0         0.0   \n",
       "2      2.0  37.176981 -43.256980  300.0 -300.0  0.900079  100.0         1.0   \n",
       "3      3.0  26.620814 -46.898656  300.0 -300.0  0.900666  100.0         1.0   \n",
       "\n",
       "    PMAX  PMIN  ...  QC2MAX  RAMP_AGC  RAMP_10  RAMP_30  RAMP_Q  APF  MU_PMAX  \\\n",
       "1  250.0  10.0  ...     0.0       0.0      0.0      0.0     0.0  0.0      0.0   \n",
       "2  300.0  10.0  ...     0.0       0.0      0.0      0.0     0.0  0.0      0.0   \n",
       "3  270.0  10.0  ...     0.0       0.0      0.0      0.0     0.0  0.0      0.0   \n",
       "\n",
       "   MU_PMIN  MU_QMAX  MU_QMIN  \n",
       "1      0.0      0.0      0.0  \n",
       "2      0.0      0.0      0.0  \n",
       "3      0.0      0.0      0.0  \n",
       "\n",
       "[3 rows x 25 columns]"
      ]
     },
     "execution_count": 7,
     "metadata": {},
     "output_type": "execute_result"
    }
   ],
   "source": [
    "# selective pull\n",
    "r1_mpc = m.eval(\n",
    "    \"struct('baseMVA', _r1.baseMVA, 'version', _r1.version, 'bus', _r1.bus,\"\n",
    "    \" 'gen', _r1.gen, 'branch', _r1.branch, 'gencost', _r1.gencost);\"\n",
    ")\n",
    "cf = CaseFrames(r1_mpc)\n",
    "cf.gen"
   ]
  },
  {
   "cell_type": "code",
   "execution_count": 21,
   "metadata": {},
   "outputs": [
    {
     "data": {
      "text/plain": [
       "'MIPS'"
      ]
     },
     "execution_count": 21,
     "metadata": {},
     "output_type": "execute_result"
    }
   ],
   "source": [
    "alg = m.eval(\"_r1.raw.output.alg;\")\n",
    "alg"
   ]
  },
  {
   "cell_type": "code",
   "execution_count": 8,
   "metadata": {},
   "outputs": [],
   "source": [
    "# # NOTE: you also can run like this\n",
    "# r1_mpc = m.eval(\n",
    "#     \"\"\"\n",
    "#     mpopt = mpoption('verbose', 2);\n",
    "#     mpc = loadcase('case9');\n",
    "#     _r1 = runuopf(mpc, mpopt);\n",
    "#     \"\"\"\n",
    "#\n",
    "#     \"struct(\"\n",
    "#     \" 'baseMVA', _r1.baseMVA, 'version', _r1.version, 'bus', _r1.bus, 'gen', _r1.gen,\"\n",
    "#     \" 'branch', _r1.branch, 'gencost', _r1.gencost);\"\n",
    "# )\n",
    "# r1_mpc"
   ]
  },
  {
   "cell_type": "code",
   "execution_count": null,
   "metadata": {},
   "outputs": [],
   "source": []
  }
 ],
 "metadata": {
  "kernelspec": {
   "display_name": "env",
   "language": "python",
   "name": "python3"
  },
  "language_info": {
   "codemirror_mode": {
    "name": "ipython",
    "version": 3
   },
   "file_extension": ".py",
   "mimetype": "text/x-python",
   "name": "python",
   "nbconvert_exporter": "python",
   "pygments_lexer": "ipython3",
   "version": "3.12.4"
  }
 },
 "nbformat": 4,
 "nbformat_minor": 2
}
