{
 "cells": [
  {
   "cell_type": "code",
   "execution_count": null,
   "metadata": {},
   "outputs": [],
   "source": [
    "# install octave\n",
    "!sudo apt-get -qq update\n",
    "!sudo apt-get -qq install octave octave-signal liboctave-dev\n",
    "\n",
    "# # install oct2py that compatible with colab\n",
    "# google-colab 1.0.0 requires ipykernel~=5.3.4.\n",
    "# google-colab 1.0.0 requires ipython~=7.9.0.\n",
    "# google-colab 1.0.0 requires tornado~=6.0.4.\n",
    "!pip install --quiet ipykernel==5.3.4 ipython==7.9.0 tornado==6.0.4 oct2py\n",
    "\n",
    "# install packages\n",
    "!pip install matpower matpowercaseframes --quiet"
   ]
  },
  {
   "cell_type": "code",
   "execution_count": null,
   "metadata": {},
   "outputs": [
    {
     "name": "stdout",
     "output_type": "stream",
     "text": [
      "oct2py version: 5.5.1\n",
      "matpower version: 7.1.0.2.1.4\n"
     ]
    }
   ],
   "source": [
    "import oct2py\n",
    "import matpower\n",
    "\n",
    "print(f\"oct2py version: {oct2py.__version__}\")\n",
    "print(f\"matpower version: {matpower.__version__}\")"
   ]
  },
  {
   "cell_type": "code",
   "execution_count": null,
   "metadata": {},
   "outputs": [],
   "source": [
    "from matpower import start_instance"
   ]
  },
  {
   "cell_type": "code",
   "execution_count": null,
   "metadata": {},
   "outputs": [],
   "source": [
    "m = start_instance()  # runpf require oct2py / matlab"
   ]
  },
  {
   "cell_type": "markdown",
   "metadata": {},
   "source": [
    "## `runpf` default to `case9.m`"
   ]
  },
  {
   "cell_type": "code",
   "execution_count": null,
   "metadata": {},
   "outputs": [
    {
     "name": "stdout",
     "output_type": "stream",
     "text": [
      "\n",
      "MATPOWER Version 7.1, 08-Oct-2020 -- AC Power Flow (Newton)\n",
      "\n",
      "Newton's method power flow (power balance, polar) converged in 4 iterations.\n",
      "\n",
      "Converged in 0.32 seconds\n",
      "================================================================================\n",
      "|     System Summary                                                           |\n",
      "================================================================================\n",
      "\n",
      "How many?                How much?              P (MW)            Q (MVAr)\n",
      "---------------------    -------------------  -------------  -----------------\n",
      "Buses              9     Total Gen Capacity     820.0        -900.0 to 900.0\n",
      "Generators         3     On-line Capacity       820.0        -900.0 to 900.0\n",
      "Committed Gens     3     Generation (actual)    319.6              22.8\n",
      "Loads              3     Load                   315.0             115.0\n",
      "  Fixed            3       Fixed                315.0             115.0\n",
      "  Dispatchable     0       Dispatchable          -0.0 of -0.0      -0.0\n",
      "Shunts             0     Shunt (inj)             -0.0               0.0\n",
      "Branches           9     Losses (I^2 * Z)         4.64             48.38\n",
      "Transformers       0     Branch Charging (inj)     -              140.5\n",
      "Inter-ties         0     Total Inter-tie Flow     0.0               0.0\n",
      "Areas              1\n",
      "\n",
      "                          Minimum                      Maximum\n",
      "                 -------------------------  --------------------------------\n",
      "Voltage Magnitude   0.996 p.u. @ bus 9          1.040 p.u. @ bus 1\n",
      "Voltage Angle      -3.99 deg   @ bus 9          9.28 deg   @ bus 2\n",
      "P Losses (I^2*R)             -                  2.30 MW    @ line 8-9\n",
      "Q Losses (I^2*X)             -                 15.83 MVAr  @ line 8-2\n",
      "\n",
      "================================================================================\n",
      "|     Bus Data                                                                 |\n",
      "================================================================================\n",
      " Bus      Voltage          Generation             Load\n",
      "  #   Mag(pu) Ang(deg)   P (MW)   Q (MVAr)   P (MW)   Q (MVAr)\n",
      "----- ------- --------  --------  --------  --------  --------\n",
      "    1  1.040    0.000*    71.64     27.05       -         -\n",
      "    2  1.025    9.280    163.00      6.65       -         -\n",
      "    3  1.025    4.665     85.00    -10.86       -         -\n",
      "    4  1.026   -2.217       -         -         -         -\n",
      "    5  1.013   -3.687       -         -       90.00     30.00\n",
      "    6  1.032    1.967       -         -         -         -\n",
      "    7  1.016    0.728       -         -      100.00     35.00\n",
      "    8  1.026    3.720       -         -         -         -\n",
      "    9  0.996   -3.989       -         -      125.00     50.00\n",
      "                        --------  --------  --------  --------\n",
      "               Total:    319.64     22.84    315.00    115.00\n",
      "\n",
      "================================================================================\n",
      "|     Branch Data                                                              |\n",
      "================================================================================\n",
      "Brnch   From   To    From Bus Injection   To Bus Injection     Loss (I^2 * Z)\n",
      "  #     Bus    Bus    P (MW)   Q (MVAr)   P (MW)   Q (MVAr)   P (MW)   Q (MVAr)\n",
      "-----  -----  -----  --------  --------  --------  --------  --------  --------\n",
      "   1      1      4     71.64     27.05    -71.64    -23.92     0.000      3.12\n",
      "   2      4      5     30.70      1.03    -30.54    -16.54     0.166      0.90\n",
      "   3      5      6    -59.46    -13.46     60.82    -18.07     1.354      5.90\n",
      "   4      3      6     85.00    -10.86    -85.00     14.96     0.000      4.10\n",
      "   5      6      7     24.18      3.12    -24.10    -24.30     0.088      0.75\n",
      "   6      7      8    -75.90    -10.70     76.38     -0.80     0.475      4.03\n",
      "   7      8      2   -163.00      9.18    163.00      6.65    -0.000     15.83\n",
      "   8      8      9     86.62     -8.38    -84.32    -11.31     2.300     11.57\n",
      "   9      9      4    -40.68    -38.69     40.94     22.89     0.258      2.19\n",
      "                                                             --------  --------\n",
      "                                                    Total:     4.641     48.38\n"
     ]
    }
   ],
   "source": [
    "_ = m.runpf()"
   ]
  },
  {
   "cell_type": "markdown",
   "metadata": {},
   "source": [
    "## `runpf` from `mpc` loaded using `loadcase`"
   ]
  },
  {
   "cell_type": "code",
   "execution_count": null,
   "metadata": {},
   "outputs": [
    {
     "name": "stdout",
     "output_type": "stream",
     "text": [
      "\n",
      "MATPOWER Version 7.1, 08-Oct-2020 -- AC Power Flow (Newton)\n",
      "\n",
      "Newton's method power flow (power balance, polar) converged in 4 iterations.\n",
      "\n",
      "Converged in 0.09 seconds\n",
      "================================================================================\n",
      "|     System Summary                                                           |\n",
      "================================================================================\n",
      "\n",
      "How many?                How much?              P (MW)            Q (MVAr)\n",
      "---------------------    -------------------  -------------  -----------------\n",
      "Buses              9     Total Gen Capacity     820.0        -900.0 to 900.0\n",
      "Generators         3     On-line Capacity       820.0        -900.0 to 900.0\n",
      "Committed Gens     3     Generation (actual)    319.6              22.8\n",
      "Loads              3     Load                   315.0             115.0\n",
      "  Fixed            3       Fixed                315.0             115.0\n",
      "  Dispatchable     0       Dispatchable          -0.0 of -0.0      -0.0\n",
      "Shunts             0     Shunt (inj)             -0.0               0.0\n",
      "Branches           9     Losses (I^2 * Z)         4.64             48.38\n",
      "Transformers       0     Branch Charging (inj)     -              140.5\n",
      "Inter-ties         0     Total Inter-tie Flow     0.0               0.0\n",
      "Areas              1\n",
      "\n",
      "                          Minimum                      Maximum\n",
      "                 -------------------------  --------------------------------\n",
      "Voltage Magnitude   0.996 p.u. @ bus 9          1.040 p.u. @ bus 1\n",
      "Voltage Angle      -3.99 deg   @ bus 9          9.28 deg   @ bus 2\n",
      "P Losses (I^2*R)             -                  2.30 MW    @ line 8-9\n",
      "Q Losses (I^2*X)             -                 15.83 MVAr  @ line 8-2\n",
      "\n",
      "================================================================================\n",
      "|     Bus Data                                                                 |\n",
      "================================================================================\n",
      " Bus      Voltage          Generation             Load\n",
      "  #   Mag(pu) Ang(deg)   P (MW)   Q (MVAr)   P (MW)   Q (MVAr)\n",
      "----- ------- --------  --------  --------  --------  --------\n",
      "    1  1.040    0.000*    71.64     27.05       -         -\n",
      "    2  1.025    9.280    163.00      6.65       -         -\n",
      "    3  1.025    4.665     85.00    -10.86       -         -\n",
      "    4  1.026   -2.217       -         -         -         -\n",
      "    5  1.013   -3.687       -         -       90.00     30.00\n",
      "    6  1.032    1.967       -         -         -         -\n",
      "    7  1.016    0.728       -         -      100.00     35.00\n",
      "    8  1.026    3.720       -         -         -         -\n",
      "    9  0.996   -3.989       -         -      125.00     50.00\n",
      "                        --------  --------  --------  --------\n",
      "               Total:    319.64     22.84    315.00    115.00\n",
      "\n",
      "================================================================================\n",
      "|     Branch Data                                                              |\n",
      "================================================================================\n",
      "Brnch   From   To    From Bus Injection   To Bus Injection     Loss (I^2 * Z)\n",
      "  #     Bus    Bus    P (MW)   Q (MVAr)   P (MW)   Q (MVAr)   P (MW)   Q (MVAr)\n",
      "-----  -----  -----  --------  --------  --------  --------  --------  --------\n",
      "   1      1      4     71.64     27.05    -71.64    -23.92     0.000      3.12\n",
      "   2      4      5     30.70      1.03    -30.54    -16.54     0.166      0.90\n",
      "   3      5      6    -59.46    -13.46     60.82    -18.07     1.354      5.90\n",
      "   4      3      6     85.00    -10.86    -85.00     14.96     0.000      4.10\n",
      "   5      6      7     24.18      3.12    -24.10    -24.30     0.088      0.75\n",
      "   6      7      8    -75.90    -10.70     76.38     -0.80     0.475      4.03\n",
      "   7      8      2   -163.00      9.18    163.00      6.65    -0.000     15.83\n",
      "   8      8      9     86.62     -8.38    -84.32    -11.31     2.300     11.57\n",
      "   9      9      4    -40.68    -38.69     40.94     22.89     0.258      2.19\n",
      "                                                             --------  --------\n",
      "                                                    Total:     4.641     48.38\n"
     ]
    }
   ],
   "source": [
    "mpc = m.loadcase('case9', verbose=False)\n",
    "mpc = m.runpf(mpc)\n",
    "\n",
    "# NOTE:\n",
    "#   verbose is oct2py arguments to avoid printing from octave"
   ]
  },
  {
   "cell_type": "code",
   "execution_count": null,
   "metadata": {},
   "outputs": [
    {
     "data": {
      "text/plain": [
       "dict_keys(['version', 'baseMVA', 'bus', 'gen', 'branch', 'gencost', 'order', 'et', 'success', 'iterations'])"
      ]
     },
     "execution_count": null,
     "metadata": {},
     "output_type": "execute_result"
    }
   ],
   "source": [
    "mpc.keys()"
   ]
  },
  {
   "cell_type": "code",
   "execution_count": null,
   "metadata": {},
   "outputs": [
    {
     "data": {
      "text/plain": [
       "array([[2.000e+00, 1.500e+03, 0.000e+00, 3.000e+00, 1.100e-01, 5.000e+00,\n",
       "        1.500e+02],\n",
       "       [2.000e+00, 2.000e+03, 0.000e+00, 3.000e+00, 8.500e-02, 1.200e+00,\n",
       "        6.000e+02],\n",
       "       [2.000e+00, 3.000e+03, 0.000e+00, 3.000e+00, 1.225e-01, 1.000e+00,\n",
       "        3.350e+02]])"
      ]
     },
     "execution_count": null,
     "metadata": {},
     "output_type": "execute_result"
    }
   ],
   "source": [
    "mpc['gencost']"
   ]
  },
  {
   "cell_type": "markdown",
   "metadata": {},
   "source": [
    "## `runopf` require tricks to avoid `<object opf_model>` "
   ]
  },
  {
   "cell_type": "code",
   "execution_count": null,
   "metadata": {},
   "outputs": [
    {
     "name": "stdout",
     "output_type": "stream",
     "text": [
      "\n",
      "MATPOWER Version 7.1, 08-Oct-2020 -- AC Optimal Power Flow\n",
      "  AC OPF formulation: polar voltages, power balance eqns\n",
      "MATPOWER Interior Point Solver -- MIPS, Version 1.4, 08-Oct-2020\n",
      " (using built-in linear solver)\n",
      "Converged!\n",
      "\n",
      "Converged in 4.85 seconds\n",
      "Objective Function Value = 5296.69 $/hr\n",
      "================================================================================\n",
      "|     System Summary                                                           |\n",
      "================================================================================\n",
      "\n",
      "How many?                How much?              P (MW)            Q (MVAr)\n",
      "---------------------    -------------------  -------------  -----------------\n",
      "Buses              9     Total Gen Capacity     820.0        -900.0 to 900.0\n",
      "Generators         3     On-line Capacity       820.0        -900.0 to 900.0\n",
      "Committed Gens     3     Generation (actual)    318.3              -9.6\n",
      "Loads              3     Load                   315.0             115.0\n",
      "  Fixed            3       Fixed                315.0             115.0\n",
      "  Dispatchable     0       Dispatchable          -0.0 of -0.0      -0.0\n",
      "Shunts             0     Shunt (inj)             -0.0               0.0\n",
      "Branches           9     Losses (I^2 * Z)         3.31             36.46\n",
      "Transformers       0     Branch Charging (inj)     -              161.1\n",
      "Inter-ties         0     Total Inter-tie Flow     0.0               0.0\n",
      "Areas              1\n",
      "\n",
      "                          Minimum                      Maximum\n",
      "                 -------------------------  --------------------------------\n",
      "Voltage Magnitude   1.072 p.u. @ bus 9          1.100 p.u. @ bus 8\n",
      "Voltage Angle      -4.62 deg   @ bus 9          4.89 deg   @ bus 2\n",
      "P Losses (I^2*R)             -                  1.39 MW    @ line 8-9\n",
      "Q Losses (I^2*X)             -                  9.36 MVAr  @ line 8-2\n",
      "Lambda P           24.03 $/MWh @ bus 2         25.00 $/MWh @ bus 9\n",
      "Lambda Q           -0.00 $/MWh @ bus 3          0.11 $/MWh @ bus 9\n",
      "\n",
      "================================================================================\n",
      "|     Bus Data                                                                 |\n",
      "================================================================================\n",
      " Bus      Voltage          Generation             Load          Lambda($/MVA-hr)\n",
      "  #   Mag(pu) Ang(deg)   P (MW)   Q (MVAr)   P (MW)   Q (MVAr)     P        Q\n",
      "----- ------- --------  --------  --------  --------  --------  -------  -------\n",
      "    1  1.100    0.000*    89.80     12.94       -         -      24.756     -\n",
      "    2  1.097    4.893    134.32      0.05       -         -      24.035     -\n",
      "    3  1.087    3.249     94.19    -22.62       -         -      24.076     -\n",
      "    4  1.094   -2.463       -         -         -         -      24.756   0.004\n",
      "    5  1.084   -3.982       -         -       90.00     30.00    24.998   0.027\n",
      "    6  1.100    0.602       -         -         -         -      24.076     -\n",
      "    7  1.089   -1.197       -         -      100.00     35.00    24.254   0.036\n",
      "    8  1.100    0.905       -         -         -         -      24.035     -\n",
      "    9  1.072   -4.616       -         -      125.00     50.00    24.999   0.112\n",
      "                        --------  --------  --------  --------\n",
      "               Total:    318.31     -9.63    315.00    115.00\n",
      "\n",
      "================================================================================\n",
      "|     Branch Data                                                              |\n",
      "================================================================================\n",
      "Brnch   From   To    From Bus Injection   To Bus Injection     Loss (I^2 * Z)\n",
      "  #     Bus    Bus    P (MW)   Q (MVAr)   P (MW)   Q (MVAr)   P (MW)   Q (MVAr)\n",
      "-----  -----  -----  --------  --------  --------  --------  --------  --------\n",
      "   1      1      4     89.80     12.94    -89.80     -9.02     0.000      3.92\n",
      "   2      4      5     35.22     -3.90    -35.04    -13.87     0.181      0.98\n",
      "   3      5      6    -54.96    -16.13     55.97    -22.18     1.010      4.40\n",
      "   4      3      6     94.19    -22.62    -94.19     27.28     0.000      4.66\n",
      "   5      6      7     38.22     -5.10    -38.07    -18.68     0.149      1.26\n",
      "   6      7      8    -61.93    -16.32     62.21      0.82     0.279      2.36\n",
      "   7      8      2   -134.32      9.32    134.32      0.05     0.000      9.36\n",
      "   8      8      9     72.11    -10.14    -70.72    -18.94     1.394      7.01\n",
      "   9      9      4    -54.28    -31.06     54.58     12.92     0.295      2.51\n",
      "                                                             --------  --------\n",
      "                                                    Total:     3.307     36.46\n",
      "\n",
      "================================================================================\n",
      "|     Voltage Constraints                                                      |\n",
      "================================================================================\n",
      "Bus #  Vmin mu    Vmin    |V|   Vmax    Vmax mu\n",
      "-----  --------   -----  -----  -----   --------\n",
      "    1      -      0.900  1.100  1.100     8.384\n",
      "    6      -      0.900  1.100  1.100    75.329\n",
      "    8      -      0.900  1.100  1.100    77.457\n"
     ]
    }
   ],
   "source": [
    "mpc = m.loadcase('case9', verbose=False)\n",
    "result = m.runopf(mpc, nout='max_nout')"
   ]
  },
  {
   "cell_type": "code",
   "execution_count": null,
   "metadata": {},
   "outputs": [
    {
     "data": {
      "text/plain": [
       "'`result` contains 8 data'"
      ]
     },
     "execution_count": null,
     "metadata": {},
     "output_type": "execute_result"
    }
   ],
   "source": [
    "f\"`result` contains {len(result)} data\""
   ]
  },
  {
   "cell_type": "markdown",
   "metadata": {},
   "source": [
    "Using `m.runopf(..., nout='max_nout')` will trigger matpower to use:\n",
    "\n",
    "```octave\n",
    "[baseMVA, bus, gen, gencost, branch, f, success, et] = runopf(...);\n",
    "```\n",
    "\n",
    "You can see matpower `runopf()` docs using:\n",
    "\n",
    "```ipython\n",
    "m.runopf?\n",
    "```"
   ]
  },
  {
   "cell_type": "markdown",
   "metadata": {},
   "source": [
    "## `runopf` wrapper"
   ]
  },
  {
   "cell_type": "code",
   "execution_count": null,
   "metadata": {},
   "outputs": [],
   "source": [
    "def runopf(mpc, m=None, verbose=False, inplace=True):\n",
    "    if m is None:\n",
    "        m = start_instance()\n",
    "        SHUTDOWN = True\n",
    "    else:\n",
    "        SHUTDOWN = False\n",
    "\n",
    "    # push value to octave client\n",
    "    m.push('_mpc', mpc)\n",
    "\n",
    "    # use octave native to run some commands\n",
    "    # TODO: support mpoption\n",
    "    m.eval(\"_mpopt = mpoption('verbose', 2);\", verbose=verbose)\n",
    "    m.eval(\"_r1 = runopf(_mpc, _mpopt);\", verbose=verbose)\n",
    "\n",
    "    # fech data to python (.eval is used because .pull is not working in acessing field)\n",
    "    if not inplace:\n",
    "        mpc = {}\n",
    "\n",
    "    _extract_result(mpc, m, verbose=verbose)\n",
    "\n",
    "    if SHUTDOWN:\n",
    "        m.exit()\n",
    "\n",
    "    return mpc\n",
    "\n",
    "def _extract_result(mpc, m, verbose=False):\n",
    "    mpc['baseMVA'] = m.eval('_r1.baseMVA;', verbose=verbose)\n",
    "    mpc['version'] = m.eval('_r1.version;', verbose=verbose)\n",
    "    mpc['bus'] = m.eval('_r1.bus;', verbose=verbose)\n",
    "    mpc['gen'] = m.eval('_r1.gen;', verbose=verbose)\n",
    "    mpc['branch'] = m.eval('_r1.branch;', verbose=verbose)\n",
    "    mpc['gencost'] = m.eval('_r1.gencost;', verbose=verbose)"
   ]
  },
  {
   "cell_type": "code",
   "execution_count": null,
   "metadata": {},
   "outputs": [
    {
     "name": "stdout",
     "output_type": "stream",
     "text": [
      "\n",
      "MATPOWER Version 7.1, 08-Oct-2020 -- AC Optimal Power Flow\n",
      "  AC OPF formulation: polar voltages, power balance eqns\n",
      "MATPOWER Interior Point Solver -- MIPS, Version 1.4, 08-Oct-2020\n",
      " (using built-in linear solver)\n",
      " it    objective   step size   feascond     gradcond     compcond     costcond\n",
      "----  ------------ --------- ------------ ------------ ------------ ------------\n",
      "  0      8363.125                   0.155       0.1765      57.1483            0\n",
      "  1     5307.5519    0.68632   0.00900309      8.30505      15.6381     0.166397\n",
      "  2     5391.0949    0.24288  0.000359195     0.630698      2.20652   0.00545763\n",
      "  3     5352.5722   0.088637   3.7341e-05     0.141404     0.216699   0.00250292\n",
      "  4     5315.4636    0.17189  0.000106315    0.0190754      0.02128    0.0024171\n",
      "  5     5312.3257   0.066353  0.000123278   0.00135236   0.00351135  0.000204886\n",
      "  6     5301.3809    0.19111   0.00120494   0.00174642  0.000962847  0.000714764\n",
      "  7     5296.7947    0.11693  0.000322236  7.55989e-05  0.000161495  0.000299729\n",
      "  8     5296.6848   0.042477  6.97202e-05  0.000191987  3.86228e-05  7.18437e-06\n",
      "  9     5296.6979   0.017789  3.27991e-06  0.000142097  1.15202e-05  8.58724e-07\n",
      " 10     5296.6885  0.0073711  5.75478e-07  1.89224e-07  1.39248e-06  6.13354e-07\n",
      " 11     5296.6865  0.0024437  6.22804e-08  2.14553e-08  1.57797e-07   1.3128e-07\n",
      "Converged!\n",
      "\n",
      "Converged in 2.04 seconds\n",
      "Objective Function Value = 5296.69 $/hr\n",
      "================================================================================\n",
      "|     System Summary                                                           |\n",
      "================================================================================\n",
      "\n",
      "How many?                How much?              P (MW)            Q (MVAr)\n",
      "---------------------    -------------------  -------------  -----------------\n",
      "Buses              9     Total Gen Capacity     820.0        -900.0 to 900.0\n",
      "Generators         3     On-line Capacity       820.0        -900.0 to 900.0\n",
      "Committed Gens     3     Generation (actual)    318.3              -9.6\n",
      "Loads              3     Load                   315.0             115.0\n",
      "  Fixed            3       Fixed                315.0             115.0\n",
      "  Dispatchable     0       Dispatchable          -0.0 of -0.0      -0.0\n",
      "Shunts             0     Shunt (inj)             -0.0               0.0\n",
      "Branches           9     Losses (I^2 * Z)         3.31             36.46\n",
      "Transformers       0     Branch Charging (inj)     -              161.1\n",
      "Inter-ties         0     Total Inter-tie Flow     0.0               0.0\n",
      "Areas              1\n",
      "\n",
      "                          Minimum                      Maximum\n",
      "                 -------------------------  --------------------------------\n",
      "Voltage Magnitude   1.072 p.u. @ bus 9          1.100 p.u. @ bus 8\n",
      "Voltage Angle      -4.62 deg   @ bus 9          4.89 deg   @ bus 2\n",
      "P Losses (I^2*R)             -                  1.39 MW    @ line 8-9\n",
      "Q Losses (I^2*X)             -                  9.36 MVAr  @ line 8-2\n",
      "Lambda P           24.03 $/MWh @ bus 2         25.00 $/MWh @ bus 9\n",
      "Lambda Q           -0.00 $/MWh @ bus 3          0.11 $/MWh @ bus 9\n",
      "\n",
      "================================================================================\n",
      "|     Bus Data                                                                 |\n",
      "================================================================================\n",
      " Bus      Voltage          Generation             Load          Lambda($/MVA-hr)\n",
      "  #   Mag(pu) Ang(deg)   P (MW)   Q (MVAr)   P (MW)   Q (MVAr)     P        Q\n",
      "----- ------- --------  --------  --------  --------  --------  -------  -------\n",
      "    1  1.100    0.000*    89.80     12.94       -         -      24.756     -\n",
      "    2  1.097    4.893    134.32      0.05       -         -      24.035     -\n",
      "    3  1.087    3.249     94.19    -22.62       -         -      24.076     -\n",
      "    4  1.094   -2.463       -         -         -         -      24.756   0.004\n",
      "    5  1.084   -3.982       -         -       90.00     30.00    24.998   0.027\n",
      "    6  1.100    0.602       -         -         -         -      24.076     -\n",
      "    7  1.089   -1.197       -         -      100.00     35.00    24.254   0.036\n",
      "    8  1.100    0.905       -         -         -         -      24.035     -\n",
      "    9  1.072   -4.616       -         -      125.00     50.00    24.999   0.112\n",
      "                        --------  --------  --------  --------\n",
      "               Total:    318.31     -9.63    315.00    115.00\n",
      "\n",
      "================================================================================\n",
      "|     Branch Data                                                              |\n",
      "================================================================================\n",
      "Brnch   From   To    From Bus Injection   To Bus Injection     Loss (I^2 * Z)\n",
      "  #     Bus    Bus    P (MW)   Q (MVAr)   P (MW)   Q (MVAr)   P (MW)   Q (MVAr)\n",
      "-----  -----  -----  --------  --------  --------  --------  --------  --------\n",
      "   1      1      4     89.80     12.94    -89.80     -9.02     0.000      3.92\n",
      "   2      4      5     35.22     -3.90    -35.04    -13.87     0.181      0.98\n",
      "   3      5      6    -54.96    -16.13     55.97    -22.18     1.010      4.40\n",
      "   4      3      6     94.19    -22.62    -94.19     27.28     0.000      4.66\n",
      "   5      6      7     38.22     -5.10    -38.07    -18.68     0.149      1.26\n",
      "   6      7      8    -61.93    -16.32     62.21      0.82     0.279      2.36\n",
      "   7      8      2   -134.32      9.32    134.32      0.05     0.000      9.36\n",
      "   8      8      9     72.11    -10.14    -70.72    -18.94     1.394      7.01\n",
      "   9      9      4    -54.28    -31.06     54.58     12.92     0.295      2.51\n",
      "                                                             --------  --------\n",
      "                                                    Total:     3.307     36.46\n",
      "\n",
      "================================================================================\n",
      "|     Voltage Constraints                                                      |\n",
      "================================================================================\n",
      "Bus #  Vmin mu    Vmin    |V|   Vmax    Vmax mu\n",
      "-----  --------   -----  -----  -----   --------\n",
      "    1      -      0.900  1.100  1.100     8.384\n",
      "    6      -      0.900  1.100  1.100    75.329\n",
      "    8      -      0.900  1.100  1.100    77.457\n"
     ]
    }
   ],
   "source": [
    "mpc = m.loadcase('case9', verbose=False)\n",
    "mpc = runopf(mpc, m=m, verbose=True, inplace=True)  # using runopf wrapper"
   ]
  },
  {
   "cell_type": "code",
   "execution_count": null,
   "metadata": {},
   "outputs": [
    {
     "data": {
      "text/plain": [
       "dict_keys(['version', 'baseMVA', 'bus', 'gen', 'branch', 'gencost'])"
      ]
     },
     "execution_count": null,
     "metadata": {},
     "output_type": "execute_result"
    }
   ],
   "source": [
    "mpc.keys()"
   ]
  },
  {
   "cell_type": "code",
   "execution_count": null,
   "metadata": {},
   "outputs": [
    {
     "data": {
      "text/plain": [
       "array([[2.000e+00, 1.500e+03, 0.000e+00, 3.000e+00, 1.100e-01, 5.000e+00,\n",
       "        1.500e+02],\n",
       "       [2.000e+00, 2.000e+03, 0.000e+00, 3.000e+00, 8.500e-02, 1.200e+00,\n",
       "        6.000e+02],\n",
       "       [2.000e+00, 3.000e+03, 0.000e+00, 3.000e+00, 1.225e-01, 1.000e+00,\n",
       "        3.350e+02]])"
      ]
     },
     "execution_count": null,
     "metadata": {},
     "output_type": "execute_result"
    }
   ],
   "source": [
    "mpc['gencost']"
   ]
  },
  {
   "cell_type": "code",
   "execution_count": null,
   "metadata": {},
   "outputs": [],
   "source": []
  }
 ],
 "metadata": {
  "colab": {
   "provenance": []
  },
  "kernelspec": {
   "display_name": "Python 3.8.10 64-bit",
   "language": "python",
   "name": "python3"
  },
  "language_info": {
   "codemirror_mode": {
    "name": "ipython",
    "version": 3
   },
   "file_extension": ".py",
   "mimetype": "text/x-python",
   "name": "python",
   "nbconvert_exporter": "python",
   "pygments_lexer": "ipython3"
  },
  "vscode": {
   "interpreter": {
    "hash": "7d9fbcc9d36fec826ec7ea63260f41bcb424332a9e727079e8172fbdc4352c28"
   }
  }
 },
 "nbformat": 4,
 "nbformat_minor": 0
}
