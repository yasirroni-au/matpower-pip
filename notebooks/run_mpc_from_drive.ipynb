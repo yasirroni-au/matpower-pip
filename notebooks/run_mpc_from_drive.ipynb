{
 "cells": [
  {
   "cell_type": "markdown",
   "metadata": {},
   "source": [
    "# Run matpower case from Google Drive"
   ]
  },
  {
   "cell_type": "markdown",
   "metadata": {},
   "source": [
    "## install pakcages"
   ]
  },
  {
   "cell_type": "code",
   "execution_count": null,
   "metadata": {},
   "outputs": [],
   "source": [
    "# install octave\n",
    "!sudo apt-get -qq update\n",
    "!sudo apt-get -qq install octave octave-signal liboctave-dev\n",
    "\n",
    "# # install oct2py that compatible with colab\n",
    "import os\n",
    "\n",
    "from pkg_resources import get_distribution\n",
    "\n",
    "os.system(\n",
    "    f\"pip install -qq\"\n",
    "    f\" ipykernel=={get_distribution('ipykernel').version}\"\n",
    "    f\" ipython=={get_distribution('ipython').version}\"\n",
    "    f\" tornado=={get_distribution('tornado').version}\"\n",
    "    f\" oct2py\"\n",
    ")\n",
    "\n",
    "# install packages\n",
    "!pip install -qq matpower matpowercaseframes"
   ]
  },
  {
   "cell_type": "code",
   "execution_count": null,
   "metadata": {},
   "outputs": [
    {
     "name": "stdout",
     "output_type": "stream",
     "text": [
      "oct2py version: 5.6.0\n",
      "matpower version: 7.1.0.2.1.4\n"
     ]
    }
   ],
   "source": [
    "import matpower\n",
    "import oct2py\n",
    "\n",
    "print(f\"oct2py version: {oct2py.__version__}\")\n",
    "print(f\"matpower version: {matpower.__version__}\")"
   ]
  },
  {
   "cell_type": "markdown",
   "metadata": {},
   "source": [
    "## import packages and start instance"
   ]
  },
  {
   "cell_type": "code",
   "execution_count": null,
   "metadata": {},
   "outputs": [],
   "source": [
    "import os\n",
    "\n",
    "from matpower import PATH_MATPOWER, start_instance\n",
    "from matpowercaseframes import CaseFrames"
   ]
  },
  {
   "cell_type": "code",
   "execution_count": null,
   "metadata": {},
   "outputs": [],
   "source": [
    "m = start_instance()  # runpf require oct2py / matlab"
   ]
  },
  {
   "cell_type": "markdown",
   "metadata": {},
   "source": [
    "## specify case path"
   ]
  },
  {
   "cell_type": "code",
   "execution_count": null,
   "metadata": {},
   "outputs": [
    {
     "name": "stdout",
     "output_type": "stream",
     "text": [
      "Mounted at /content/drive\n"
     ]
    }
   ],
   "source": [
    "# NOTE: `get_ipython` only exists in IPython\n",
    "if \"google.colab\" in str(get_ipython()):  # noqa: E0602\n",
    "    # support save files in drive\n",
    "    from google.colab import drive\n",
    "\n",
    "    drive.mount(\"/content/drive\")\n",
    "    drive_path = \"/content/drive/MyDrive\"\n",
    "else:\n",
    "    drive_path = None"
   ]
  },
  {
   "cell_type": "code",
   "execution_count": null,
   "metadata": {},
   "outputs": [
    {
     "name": "stdout",
     "output_type": "stream",
     "text": [
      "/content/drive/MyDrive/Colab Notebooks/matpower/data/case9.m\n"
     ]
    }
   ],
   "source": [
    "if drive_path is None:\n",
    "    # run locally:\n",
    "    case_path = f\"{PATH_MATPOWER}/data/case9.m\"\n",
    "else:\n",
    "    # run on Google Colab:\n",
    "    case_path = f\"{drive_path}/Colab Notebooks/matpower/data/case9.m\"\n",
    "# change the case path as needed\n",
    "print(case_path)"
   ]
  },
  {
   "cell_type": "code",
   "execution_count": null,
   "metadata": {},
   "outputs": [
    {
     "data": {
      "text/plain": [
       "True"
      ]
     },
     "execution_count": null,
     "metadata": {},
     "output_type": "execute_result"
    }
   ],
   "source": [
    "# check if path is valid and file exists\n",
    "os.path.isfile(case_path)"
   ]
  },
  {
   "cell_type": "code",
   "execution_count": null,
   "metadata": {},
   "outputs": [
    {
     "name": "stdout",
     "output_type": "stream",
     "text": [
      "/usr/local/lib/python3.9/dist-packages/matpower\n"
     ]
    }
   ],
   "source": [
    "# you also can directy modify or place file in matpower folder\n",
    "print(PATH_MATPOWER)"
   ]
  },
  {
   "cell_type": "markdown",
   "metadata": {},
   "source": [
    "## run power flow using the specified case"
   ]
  },
  {
   "cell_type": "code",
   "execution_count": null,
   "metadata": {},
   "outputs": [
    {
     "name": "stdout",
     "output_type": "stream",
     "text": [
      "\n",
      "MATPOWER Version 7.1, 08-Oct-2020 -- AC Power Flow (Newton)\n",
      "\n",
      "Newton's method power flow (power balance, polar) converged in 4 iterations.\n",
      "\n",
      "Converged in 0.04 seconds\n",
      "================================================================================\n",
      "|     System Summary                                                           |\n",
      "================================================================================\n",
      "\n",
      "How many?                How much?              P (MW)            Q (MVAr)\n",
      "---------------------    -------------------  -------------  -----------------\n",
      "Buses              9     Total Gen Capacity     820.0        -900.0 to 900.0\n",
      "Generators         3     On-line Capacity       820.0        -900.0 to 900.0\n",
      "Committed Gens     3     Generation (actual)    319.6              22.8\n",
      "Loads              3     Load                   315.0             115.0\n",
      "  Fixed            3       Fixed                315.0             115.0\n",
      "  Dispatchable     0       Dispatchable          -0.0 of -0.0      -0.0\n",
      "Shunts             0     Shunt (inj)             -0.0               0.0\n",
      "Branches           9     Losses (I^2 * Z)         4.64             48.38\n",
      "Transformers       0     Branch Charging (inj)     -              140.5\n",
      "Inter-ties         0     Total Inter-tie Flow     0.0               0.0\n",
      "Areas              1\n",
      "\n",
      "                          Minimum                      Maximum\n",
      "                 -------------------------  --------------------------------\n",
      "Voltage Magnitude   0.996 p.u. @ bus 9          1.040 p.u. @ bus 1\n",
      "Voltage Angle      -3.99 deg   @ bus 9          9.28 deg   @ bus 2\n",
      "P Losses (I^2*R)             -                  2.30 MW    @ line 8-9\n",
      "Q Losses (I^2*X)             -                 15.83 MVAr  @ line 8-2\n",
      "\n",
      "================================================================================\n",
      "|     Bus Data                                                                 |\n",
      "================================================================================\n",
      " Bus      Voltage          Generation             Load\n",
      "  #   Mag(pu) Ang(deg)   P (MW)   Q (MVAr)   P (MW)   Q (MVAr)\n",
      "----- ------- --------  --------  --------  --------  --------\n",
      "    1  1.040    0.000*    71.64     27.05       -         -\n",
      "    2  1.025    9.280    163.00      6.65       -         -\n",
      "    3  1.025    4.665     85.00    -10.86       -         -\n",
      "    4  1.026   -2.217       -         -         -         -\n",
      "    5  1.013   -3.687       -         -       90.00     30.00\n",
      "    6  1.032    1.967       -         -         -         -\n",
      "    7  1.016    0.728       -         -      100.00     35.00\n",
      "    8  1.026    3.720       -         -         -         -\n",
      "    9  0.996   -3.989       -         -      125.00     50.00\n",
      "                        --------  --------  --------  --------\n",
      "               Total:    319.64     22.84    315.00    115.00\n",
      "\n",
      "================================================================================\n",
      "|     Branch Data                                                              |\n",
      "================================================================================\n",
      "Brnch   From   To    From Bus Injection   To Bus Injection     Loss (I^2 * Z)\n",
      "  #     Bus    Bus    P (MW)   Q (MVAr)   P (MW)   Q (MVAr)   P (MW)   Q (MVAr)\n",
      "-----  -----  -----  --------  --------  --------  --------  --------  --------\n",
      "   1      1      4     71.64     27.05    -71.64    -23.92     0.000      3.12\n",
      "   2      4      5     30.70      1.03    -30.54    -16.54     0.166      0.90\n",
      "   3      5      6    -59.46    -13.46     60.82    -18.07     1.354      5.90\n",
      "   4      3      6     85.00    -10.86    -85.00     14.96     0.000      4.10\n",
      "   5      6      7     24.18      3.12    -24.10    -24.30     0.088      0.75\n",
      "   6      7      8    -75.90    -10.70     76.38     -0.80     0.475      4.03\n",
      "   7      8      2   -163.00      9.18    163.00      6.65     0.000     15.83\n",
      "   8      8      9     86.62     -8.38    -84.32    -11.31     2.300     11.57\n",
      "   9      9      4    -40.68    -38.69     40.94     22.89     0.258      2.19\n",
      "                                                             --------  --------\n",
      "                                                    Total:     4.641     48.38\n"
     ]
    }
   ],
   "source": [
    "mpc = m.runpf(case_path)"
   ]
  },
  {
   "cell_type": "markdown",
   "metadata": {},
   "source": [
    "## Save results of power flow on xlsx"
   ]
  },
  {
   "cell_type": "code",
   "execution_count": null,
   "metadata": {},
   "outputs": [],
   "source": [
    "if drive_path is None:\n",
    "    # run locally:\n",
    "    result_dir = f\"{PATH_MATPOWER}/results\"\n",
    "else:\n",
    "    # run on Google Colab:\n",
    "    result_dir = f\"{drive_path}/Colab Notebooks/matpower/results\"\n",
    "\n",
    "if not os.path.exists(result_dir):\n",
    "    os.mkdir(result_dir)\n",
    "\n",
    "result_file_name = \"case9_result.xlsx\"\n",
    "result_file_path = f\"{result_dir}/{result_file_name}\""
   ]
  },
  {
   "cell_type": "code",
   "execution_count": null,
   "metadata": {},
   "outputs": [],
   "source": [
    "cf = CaseFrames(mpc)\n",
    "cf.to_excel(result_file_path)"
   ]
  },
  {
   "cell_type": "code",
   "execution_count": null,
   "metadata": {},
   "outputs": [],
   "source": []
  }
 ],
 "metadata": {
  "language_info": {
   "name": "python"
  }
 },
 "nbformat": 4,
 "nbformat_minor": 0
}
