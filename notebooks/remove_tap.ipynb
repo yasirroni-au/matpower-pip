{
 "cells": [
  {
   "cell_type": "code",
   "execution_count": null,
   "id": "c6e541b4-9a9c-4376-9f71-1055243ca5cf",
   "metadata": {},
   "outputs": [],
   "source": [
    "# install octave\n",
    "!sudo apt-get -qq update\n",
    "!sudo apt-get -qq install octave octave-signal liboctave-dev\n",
    "\n",
    "# # install oct2py that compatible with colab\n",
    "import os\n",
    "\n",
    "from pkg_resources import get_distribution\n",
    "\n",
    "os.system(f\"pip install -qq\"\n",
    "          f\" ipykernel=={get_distribution('ipykernel').version}\"\n",
    "          f\" ipython=={get_distribution('ipython').version}\"\n",
    "          f\" tornado=={get_distribution('tornado').version}\"\n",
    "          f\" oct2py\"\n",
    "          )\n",
    "\n",
    "# install packages\n",
    "!pip install -qq matpower"
   ]
  },
  {
   "cell_type": "code",
   "execution_count": null,
   "id": "pPNRl5fgaHh-",
   "metadata": {},
   "outputs": [
    {
     "name": "stdout",
     "output_type": "stream",
     "text": [
      "oct2py version: 5.5.1\n",
      "matpower version: 7.1.0.2.1.4\n"
     ]
    }
   ],
   "source": [
    "import oct2py\n",
    "\n",
    "import matpower\n",
    "\n",
    "print(f\"oct2py version: {oct2py.__version__}\")\n",
    "print(f\"matpower version: {matpower.__version__}\")"
   ]
  },
  {
   "cell_type": "code",
   "execution_count": null,
   "id": "8bb6a570-6390-4f92-9111-5076bbdd32b8",
   "metadata": {},
   "outputs": [],
   "source": [
    "from matpower import start_instance"
   ]
  },
  {
   "cell_type": "code",
   "execution_count": null,
   "id": "bd58972a-5831-4fc3-bf6c-151b73c73dba",
   "metadata": {},
   "outputs": [],
   "source": [
    "m = start_instance()"
   ]
  },
  {
   "cell_type": "code",
   "execution_count": null,
   "id": "472af217-9e62-4ed0-a032-e50a1f73f92d",
   "metadata": {},
   "outputs": [],
   "source": [
    "[PQ, PV, REF, NONE, BUS_I, BUS_TYPE, PD, QD, GS, BS, BUS_AREA, VM, VA, BASE_KV,\n",
    "    ZONE, VMAX, VMIN, LAM_P, LAM_Q, MU_VMAX, MU_VMIN] = m.idx_bus(nout='max_nout')\n",
    "[F_BUS, T_BUS, BR_R, BR_X, BR_B, RATE_A, RATE_B, RATE_C,\n",
    " TAP, SHIFT, BR_STATUS, PF, QF, PT, QT, MU_SF, MU_ST,\n",
    " ANGMIN, ANGMAX, MU_ANGMIN, MU_ANGMAX] = m.idx_brch(nout='max_nout')\n",
    "[GEN_BUS, PG, QG, QMAX, QMIN, VG, MBASE, GEN_STATUS, PMAX, PMIN,\n",
    " MU_PMAX, MU_PMIN, MU_QMAX, MU_QMIN, PC1, PC2, QC1MIN, QC1MAX,\n",
    " QC2MIN, QC2MAX, RAMP_AGC, RAMP_10, RAMP_30, RAMP_Q, APF] = m.idx_gen(nout='max_nout')"
   ]
  },
  {
   "cell_type": "code",
   "execution_count": null,
   "id": "5e80466d-b7e1-48c2-afed-208770d339c7",
   "metadata": {},
   "outputs": [],
   "source": [
    "cases = {\n",
    "    'case118': None,\n",
    "}\n",
    "\n",
    "mpopt = m.mpoption('verbose', 0, 'out.bus', 0, 'out.branch', 0, 'out.gen', 0)"
   ]
  },
  {
   "cell_type": "code",
   "execution_count": null,
   "id": "387d175b-3698-4fbb-be6b-7799ee07bfc9",
   "metadata": {},
   "outputs": [],
   "source": [
    "for case in cases:\n",
    "    # import case\n",
    "    cases[case] = m.eval(f'mpc_{case} = eval(\"{case}\");', verbose=False)\n",
    "\n",
    "    # make all tap trafo to zero\n",
    "    cases[case].branch[:, int(TAP) - 1] = 0"
   ]
  },
  {
   "cell_type": "code",
   "execution_count": null,
   "id": "9c08c047-f302-40a5-9c0f-b6511fec2ea1",
   "metadata": {},
   "outputs": [
    {
     "name": "stdout",
     "output_type": "stream",
     "text": [
      "\n",
      "Converged in 0.45 seconds\n",
      "================================================================================\n",
      "|     System Summary                                                           |\n",
      "================================================================================\n",
      "\n",
      "How many?                How much?              P (MW)            Q (MVAr)\n",
      "---------------------    -------------------  -------------  -----------------\n",
      "Buses            118     Total Gen Capacity    9966.2       -7345.0 to 11777.0\n",
      "Generators        54     On-line Capacity      9966.2       -7345.0 to 11777.0\n",
      "Committed Gens    54     Generation (actual)   4374.3             770.9\n",
      "Loads             99     Load                  4242.0            1438.0\n",
      "  Fixed           99       Fixed               4242.0            1438.0\n",
      "  Dispatchable     0       Dispatchable          -0.0 of -0.0      -0.0\n",
      "Shunts            14     Shunt (inj)             -0.0              84.8\n",
      "Branches         186     Losses (I^2 * Z)       132.29            774.69\n",
      "Transformers       0     Branch Charging (inj)     -             1357.0\n",
      "Inter-ties         0     Total Inter-tie Flow     0.0               0.0\n",
      "Areas              1\n",
      "\n",
      "                          Minimum                      Maximum\n",
      "                 -------------------------  --------------------------------\n",
      "Voltage Magnitude   0.943 p.u. @ bus 76         1.050 p.u. @ bus 10\n",
      "Voltage Angle       7.01 deg   @ bus 41        39.64 deg   @ bus 89\n",
      "P Losses (I^2*R)             -                  6.39 MW    @ line 25-27\n",
      "Q Losses (I^2*X)             -                 59.22 MVAr  @ line 9-10\n"
     ]
    }
   ],
   "source": [
    "for mpc in cases.values():\n",
    "    _ = m.runpf(mpc, mpopt)"
   ]
  },
  {
   "cell_type": "code",
   "execution_count": null,
   "id": "508ad578-75ec-4a0c-9461-b2e7c957028b",
   "metadata": {},
   "outputs": [],
   "source": []
  }
 ],
 "metadata": {},
 "nbformat": 4,
 "nbformat_minor": 5
}
