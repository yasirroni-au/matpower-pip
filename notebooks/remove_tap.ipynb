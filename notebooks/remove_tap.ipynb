{
 "cells": [
  {
   "cell_type": "code",
   "execution_count": null,
   "id": "c6e541b4-9a9c-4376-9f71-1055243ca5cf",
   "metadata": {},
   "outputs": [],
   "source": [
    "# # install octave\n",
    "# !sudo apt-get -qq update\n",
    "# !sudo apt-get -qq install octave octave-signal liboctave-dev\n",
    "\n",
    "# # install oct2py that compatible with colab\n",
    "# import os\n",
    "\n",
    "# from pkg_resources import get_distribution\n",
    "\n",
    "# os.system(\n",
    "#     f\"pip install -qq\"\n",
    "#     f\" ipykernel=={get_distribution('ipykernel').version}\"\n",
    "#     f\" ipython=={get_distribution('ipython').version}\"\n",
    "#     f\" tornado=={get_distribution('tornado').version}\"\n",
    "#     f\" oct2py\"\n",
    "# )\n",
    "\n",
    "# # install packages\n",
    "# !pip install -qq matpower matpowercaseframes"
   ]
  },
  {
   "cell_type": "code",
   "execution_count": null,
   "id": "pPNRl5fgaHh-",
   "metadata": {},
   "outputs": [
    {
     "name": "stdout",
     "output_type": "stream",
     "text": [
      "oct2py version: 5.7.2\n",
      "matpower version: 8.0.0.2.2.2\n"
     ]
    }
   ],
   "source": [
    "import oct2py\n",
    "\n",
    "import matpower\n",
    "\n",
    "print(f\"oct2py version: {oct2py.__version__}\")\n",
    "print(f\"matpower version: {matpower.__version__}\")"
   ]
  },
  {
   "cell_type": "code",
   "execution_count": null,
   "id": "8bb6a570-6390-4f92-9111-5076bbdd32b8",
   "metadata": {},
   "outputs": [],
   "source": [
    "from matpowercaseframes import CaseFrames\n",
    "\n",
    "from matpower import start_instance"
   ]
  },
  {
   "cell_type": "code",
   "execution_count": null,
   "id": "bd58972a-5831-4fc3-bf6c-151b73c73dba",
   "metadata": {},
   "outputs": [],
   "source": [
    "m = start_instance()"
   ]
  },
  {
   "cell_type": "code",
   "execution_count": null,
   "id": "5e80466d-b7e1-48c2-afed-208770d339c7",
   "metadata": {},
   "outputs": [],
   "source": [
    "cases = {\n",
    "    # \"case118\": None,\n",
    "    \"case9\": None,\n",
    "}\n",
    "\n",
    "mpopt = m.mpoption(\"verbose\", 0, \"out.bus\", 0, \"out.branch\", 0, \"out.gen\", 0)"
   ]
  },
  {
   "cell_type": "code",
   "execution_count": null,
   "id": "387d175b-3698-4fbb-be6b-7799ee07bfc9",
   "metadata": {},
   "outputs": [],
   "source": [
    "for case in cases:\n",
    "    # import case\n",
    "    cases[case] = CaseFrames(case, load_case_engine=m)\n",
    "\n",
    "    # make all tap trafo to zero\n",
    "    cases[case].branch.loc[:, \"TAP\"] = 0"
   ]
  },
  {
   "cell_type": "code",
   "execution_count": null,
   "id": "9c08c047-f302-40a5-9c0f-b6511fec2ea1",
   "metadata": {},
   "outputs": [
    {
     "name": "stdout",
     "output_type": "stream",
     "text": [
      "\n",
      "Converged in 0.14 seconds\n",
      "================================================================================\n",
      "|     System Summary                                                           |\n",
      "================================================================================\n",
      "\n",
      "How many?                How much?              P (MW)            Q (MVAr)\n",
      "---------------------    -------------------  -------------  -----------------\n",
      "Buses              9     Total Gen Capacity     820.0        -900.0 to 900.0\n",
      "Generators         3     On-line Capacity       820.0        -900.0 to 900.0\n",
      "Committed Gens     3     Generation (actual)    319.6              22.8\n",
      "Loads              3     Load                   315.0             115.0\n",
      "  Fixed            3       Fixed                315.0             115.0\n",
      "  Dispatchable     0       Dispatchable          -0.0 of -0.0      -0.0\n",
      "Shunts             0     Shunt (inj)             -0.0               0.0\n",
      "Branches           9     Losses (I^2 * Z)         4.64             48.38\n",
      "Transformers       0     Branch Charging (inj)     -              140.5\n",
      "Inter-ties         0     Total Inter-tie Flow     0.0               0.0\n",
      "Areas              1\n",
      "\n",
      "                          Minimum                      Maximum\n",
      "                 -------------------------  --------------------------------\n",
      "Voltage Magnitude   0.996 p.u. @ bus 9          1.040 p.u. @ bus 1\n",
      "Voltage Angle      -3.99 deg   @ bus 9          9.28 deg   @ bus 2\n",
      "P Losses (I^2*R)             -                  2.30 MW    @ line 8-9\n",
      "Q Losses (I^2*X)             -                 15.83 MVAr  @ line 8-2\n"
     ]
    }
   ],
   "source": [
    "for cf in cases.values():\n",
    "    _ = m.runpf(cf.to_mpc(), mpopt)"
   ]
  },
  {
   "cell_type": "code",
   "execution_count": null,
   "id": "d1eafea1",
   "metadata": {},
   "outputs": [],
   "source": []
  }
 ],
 "metadata": {
  "kernelspec": {
   "display_name": "env",
   "language": "python",
   "name": "python3"
  },
  "language_info": {
   "codemirror_mode": {
    "name": "ipython",
    "version": 3
   },
   "file_extension": ".py",
   "mimetype": "text/x-python",
   "name": "python",
   "nbconvert_exporter": "python",
   "pygments_lexer": "ipython3"
  }
 },
 "nbformat": 4,
 "nbformat_minor": 5
}
